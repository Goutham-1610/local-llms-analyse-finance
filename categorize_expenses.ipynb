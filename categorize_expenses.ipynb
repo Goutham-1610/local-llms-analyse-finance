{
 "cells": [
  {
   "cell_type": "code",
   "execution_count": 1,
   "metadata": {},
   "outputs": [
    {
     "name": "stdout",
     "output_type": "stream",
     "text": [
      "Requirement already satisfied: langchain_community in c:\\users\\vouth\\onedrive\\desktop\\fianance2\\.venv\\lib\\site-packages (0.3.14)\n",
      "Requirement already satisfied: PyYAML>=5.3 in c:\\users\\vouth\\onedrive\\desktop\\fianance2\\.venv\\lib\\site-packages (from langchain_community) (6.0.2)\n",
      "Requirement already satisfied: SQLAlchemy<3,>=1.4 in c:\\users\\vouth\\onedrive\\desktop\\fianance2\\.venv\\lib\\site-packages (from langchain_community) (2.0.37)\n",
      "Requirement already satisfied: aiohttp<4.0.0,>=3.8.3 in c:\\users\\vouth\\onedrive\\desktop\\fianance2\\.venv\\lib\\site-packages (from langchain_community) (3.11.11)\n",
      "Requirement already satisfied: dataclasses-json<0.7,>=0.5.7 in c:\\users\\vouth\\onedrive\\desktop\\fianance2\\.venv\\lib\\site-packages (from langchain_community) (0.6.7)\n",
      "Requirement already satisfied: httpx-sse<0.5.0,>=0.4.0 in c:\\users\\vouth\\onedrive\\desktop\\fianance2\\.venv\\lib\\site-packages (from langchain_community) (0.4.0)\n",
      "Requirement already satisfied: langchain<0.4.0,>=0.3.14 in c:\\users\\vouth\\onedrive\\desktop\\fianance2\\.venv\\lib\\site-packages (from langchain_community) (0.3.14)\n",
      "Requirement already satisfied: langchain-core<0.4.0,>=0.3.29 in c:\\users\\vouth\\onedrive\\desktop\\fianance2\\.venv\\lib\\site-packages (from langchain_community) (0.3.30)\n",
      "Requirement already satisfied: langsmith<0.3,>=0.1.125 in c:\\users\\vouth\\onedrive\\desktop\\fianance2\\.venv\\lib\\site-packages (from langchain_community) (0.2.11)\n",
      "Requirement already satisfied: numpy<3,>=1.26.2 in c:\\users\\vouth\\onedrive\\desktop\\fianance2\\.venv\\lib\\site-packages (from langchain_community) (2.2.1)\n",
      "Requirement already satisfied: pydantic-settings<3.0.0,>=2.4.0 in c:\\users\\vouth\\onedrive\\desktop\\fianance2\\.venv\\lib\\site-packages (from langchain_community) (2.7.1)\n",
      "Requirement already satisfied: requests<3,>=2 in c:\\users\\vouth\\onedrive\\desktop\\fianance2\\.venv\\lib\\site-packages (from langchain_community) (2.32.3)\n",
      "Requirement already satisfied: tenacity!=8.4.0,<10,>=8.1.0 in c:\\users\\vouth\\onedrive\\desktop\\fianance2\\.venv\\lib\\site-packages (from langchain_community) (9.0.0)\n",
      "Requirement already satisfied: aiohappyeyeballs>=2.3.0 in c:\\users\\vouth\\onedrive\\desktop\\fianance2\\.venv\\lib\\site-packages (from aiohttp<4.0.0,>=3.8.3->langchain_community) (2.4.4)\n",
      "Requirement already satisfied: aiosignal>=1.1.2 in c:\\users\\vouth\\onedrive\\desktop\\fianance2\\.venv\\lib\\site-packages (from aiohttp<4.0.0,>=3.8.3->langchain_community) (1.3.2)\n",
      "Requirement already satisfied: attrs>=17.3.0 in c:\\users\\vouth\\onedrive\\desktop\\fianance2\\.venv\\lib\\site-packages (from aiohttp<4.0.0,>=3.8.3->langchain_community) (24.3.0)\n",
      "Requirement already satisfied: frozenlist>=1.1.1 in c:\\users\\vouth\\onedrive\\desktop\\fianance2\\.venv\\lib\\site-packages (from aiohttp<4.0.0,>=3.8.3->langchain_community) (1.5.0)\n",
      "Requirement already satisfied: multidict<7.0,>=4.5 in c:\\users\\vouth\\onedrive\\desktop\\fianance2\\.venv\\lib\\site-packages (from aiohttp<4.0.0,>=3.8.3->langchain_community) (6.1.0)\n",
      "Requirement already satisfied: propcache>=0.2.0 in c:\\users\\vouth\\onedrive\\desktop\\fianance2\\.venv\\lib\\site-packages (from aiohttp<4.0.0,>=3.8.3->langchain_community) (0.2.1)\n",
      "Requirement already satisfied: yarl<2.0,>=1.17.0 in c:\\users\\vouth\\onedrive\\desktop\\fianance2\\.venv\\lib\\site-packages (from aiohttp<4.0.0,>=3.8.3->langchain_community) (1.18.3)\n",
      "Requirement already satisfied: marshmallow<4.0.0,>=3.18.0 in c:\\users\\vouth\\onedrive\\desktop\\fianance2\\.venv\\lib\\site-packages (from dataclasses-json<0.7,>=0.5.7->langchain_community) (3.25.1)\n",
      "Requirement already satisfied: typing-inspect<1,>=0.4.0 in c:\\users\\vouth\\onedrive\\desktop\\fianance2\\.venv\\lib\\site-packages (from dataclasses-json<0.7,>=0.5.7->langchain_community) (0.9.0)\n",
      "Requirement already satisfied: langchain-text-splitters<0.4.0,>=0.3.3 in c:\\users\\vouth\\onedrive\\desktop\\fianance2\\.venv\\lib\\site-packages (from langchain<0.4.0,>=0.3.14->langchain_community) (0.3.5)\n",
      "Requirement already satisfied: pydantic<3.0.0,>=2.7.4 in c:\\users\\vouth\\onedrive\\desktop\\fianance2\\.venv\\lib\\site-packages (from langchain<0.4.0,>=0.3.14->langchain_community) (2.10.5)\n",
      "Requirement already satisfied: jsonpatch<2.0,>=1.33 in c:\\users\\vouth\\onedrive\\desktop\\fianance2\\.venv\\lib\\site-packages (from langchain-core<0.4.0,>=0.3.29->langchain_community) (1.33)\n",
      "Requirement already satisfied: packaging<25,>=23.2 in c:\\users\\vouth\\onedrive\\desktop\\fianance2\\.venv\\lib\\site-packages (from langchain-core<0.4.0,>=0.3.29->langchain_community) (24.2)\n",
      "Requirement already satisfied: typing-extensions>=4.7 in c:\\users\\vouth\\onedrive\\desktop\\fianance2\\.venv\\lib\\site-packages (from langchain-core<0.4.0,>=0.3.29->langchain_community) (4.12.2)\n",
      "Requirement already satisfied: httpx<1,>=0.23.0 in c:\\users\\vouth\\onedrive\\desktop\\fianance2\\.venv\\lib\\site-packages (from langsmith<0.3,>=0.1.125->langchain_community) (0.28.1)\n",
      "Requirement already satisfied: orjson<4.0.0,>=3.9.14 in c:\\users\\vouth\\onedrive\\desktop\\fianance2\\.venv\\lib\\site-packages (from langsmith<0.3,>=0.1.125->langchain_community) (3.10.15)\n",
      "Requirement already satisfied: requests-toolbelt<2.0.0,>=1.0.0 in c:\\users\\vouth\\onedrive\\desktop\\fianance2\\.venv\\lib\\site-packages (from langsmith<0.3,>=0.1.125->langchain_community) (1.0.0)\n",
      "Requirement already satisfied: python-dotenv>=0.21.0 in c:\\users\\vouth\\onedrive\\desktop\\fianance2\\.venv\\lib\\site-packages (from pydantic-settings<3.0.0,>=2.4.0->langchain_community) (1.0.1)\n",
      "Requirement already satisfied: charset-normalizer<4,>=2 in c:\\users\\vouth\\onedrive\\desktop\\fianance2\\.venv\\lib\\site-packages (from requests<3,>=2->langchain_community) (3.4.1)\n",
      "Requirement already satisfied: idna<4,>=2.5 in c:\\users\\vouth\\onedrive\\desktop\\fianance2\\.venv\\lib\\site-packages (from requests<3,>=2->langchain_community) (3.10)\n",
      "Requirement already satisfied: urllib3<3,>=1.21.1 in c:\\users\\vouth\\onedrive\\desktop\\fianance2\\.venv\\lib\\site-packages (from requests<3,>=2->langchain_community) (2.3.0)\n",
      "Requirement already satisfied: certifi>=2017.4.17 in c:\\users\\vouth\\onedrive\\desktop\\fianance2\\.venv\\lib\\site-packages (from requests<3,>=2->langchain_community) (2024.12.14)\n",
      "Requirement already satisfied: greenlet!=0.4.17 in c:\\users\\vouth\\onedrive\\desktop\\fianance2\\.venv\\lib\\site-packages (from SQLAlchemy<3,>=1.4->langchain_community) (3.1.1)\n",
      "Requirement already satisfied: anyio in c:\\users\\vouth\\onedrive\\desktop\\fianance2\\.venv\\lib\\site-packages (from httpx<1,>=0.23.0->langsmith<0.3,>=0.1.125->langchain_community) (4.8.0)\n",
      "Requirement already satisfied: httpcore==1.* in c:\\users\\vouth\\onedrive\\desktop\\fianance2\\.venv\\lib\\site-packages (from httpx<1,>=0.23.0->langsmith<0.3,>=0.1.125->langchain_community) (1.0.7)\n",
      "Requirement already satisfied: h11<0.15,>=0.13 in c:\\users\\vouth\\onedrive\\desktop\\fianance2\\.venv\\lib\\site-packages (from httpcore==1.*->httpx<1,>=0.23.0->langsmith<0.3,>=0.1.125->langchain_community) (0.14.0)\n",
      "Requirement already satisfied: jsonpointer>=1.9 in c:\\users\\vouth\\onedrive\\desktop\\fianance2\\.venv\\lib\\site-packages (from jsonpatch<2.0,>=1.33->langchain-core<0.4.0,>=0.3.29->langchain_community) (3.0.0)\n",
      "Requirement already satisfied: annotated-types>=0.6.0 in c:\\users\\vouth\\onedrive\\desktop\\fianance2\\.venv\\lib\\site-packages (from pydantic<3.0.0,>=2.7.4->langchain<0.4.0,>=0.3.14->langchain_community) (0.7.0)\n",
      "Requirement already satisfied: pydantic-core==2.27.2 in c:\\users\\vouth\\onedrive\\desktop\\fianance2\\.venv\\lib\\site-packages (from pydantic<3.0.0,>=2.7.4->langchain<0.4.0,>=0.3.14->langchain_community) (2.27.2)\n",
      "Requirement already satisfied: mypy-extensions>=0.3.0 in c:\\users\\vouth\\onedrive\\desktop\\fianance2\\.venv\\lib\\site-packages (from typing-inspect<1,>=0.4.0->dataclasses-json<0.7,>=0.5.7->langchain_community) (1.0.0)\n",
      "Requirement already satisfied: sniffio>=1.1 in c:\\users\\vouth\\onedrive\\desktop\\fianance2\\.venv\\lib\\site-packages (from anyio->httpx<1,>=0.23.0->langsmith<0.3,>=0.1.125->langchain_community) (1.3.1)\n"
     ]
    },
    {
     "name": "stderr",
     "output_type": "stream",
     "text": [
      "\n",
      "[notice] A new release of pip is available: 24.2 -> 24.3.1\n",
      "[notice] To update, run: python.exe -m pip install --upgrade pip\n"
     ]
    },
    {
     "name": "stdout",
     "output_type": "stream",
     "text": [
      "Requirement already satisfied: pandas in c:\\users\\vouth\\onedrive\\desktop\\fianance2\\.venv\\lib\\site-packages (2.2.3)\n",
      "Requirement already satisfied: numpy>=1.26.0 in c:\\users\\vouth\\onedrive\\desktop\\fianance2\\.venv\\lib\\site-packages (from pandas) (2.2.1)\n",
      "Requirement already satisfied: python-dateutil>=2.8.2 in c:\\users\\vouth\\onedrive\\desktop\\fianance2\\.venv\\lib\\site-packages (from pandas) (2.9.0.post0)\n",
      "Requirement already satisfied: pytz>=2020.1 in c:\\users\\vouth\\onedrive\\desktop\\fianance2\\.venv\\lib\\site-packages (from pandas) (2024.2)\n",
      "Requirement already satisfied: tzdata>=2022.7 in c:\\users\\vouth\\onedrive\\desktop\\fianance2\\.venv\\lib\\site-packages (from pandas) (2024.2)\n",
      "Requirement already satisfied: six>=1.5 in c:\\users\\vouth\\onedrive\\desktop\\fianance2\\.venv\\lib\\site-packages (from python-dateutil>=2.8.2->pandas) (1.17.0)\n"
     ]
    },
    {
     "name": "stderr",
     "output_type": "stream",
     "text": [
      "\n",
      "[notice] A new release of pip is available: 24.2 -> 24.3.1\n",
      "[notice] To update, run: python.exe -m pip install --upgrade pip\n"
     ]
    }
   ],
   "source": [
    "!pip3 install langchain_community\n",
    "!pip3 install pandas\n"
   ]
  },
  {
   "cell_type": "code",
   "execution_count": 2,
   "metadata": {},
   "outputs": [],
   "source": [
    "from langchain_community.llms import Ollama\n",
    "import pandas as pd\n",
    "import numpy as np\n",
    "import plotly.express as px"
   ]
  },
  {
   "cell_type": "code",
   "execution_count": 3,
   "metadata": {},
   "outputs": [
    {
     "name": "stderr",
     "output_type": "stream",
     "text": [
      "C:\\Users\\vouth\\AppData\\Local\\Temp\\ipykernel_32664\\3421170792.py:1: LangChainDeprecationWarning: The class `Ollama` was deprecated in LangChain 0.3.1 and will be removed in 1.0.0. An updated version of the class exists in the :class:`~langchain-ollama package and should be used instead. To use it run `pip install -U :class:`~langchain-ollama` and import as `from :class:`~langchain_ollama import OllamaLLM``.\n",
      "  llm = Ollama(model=\"llama2\")\n"
     ]
    },
    {
     "data": {
      "text/plain": [
       "'\\nThe first man on the moon was Neil Armstrong. He stepped foot on the moon\\'s surface on July 20, 1969, during the Apollo 11 mission. Armstrong famously declared \"That\\'s one small step for man, one giant leap for mankind\" as he took his first steps on the lunar surface.'"
      ]
     },
     "execution_count": 3,
     "metadata": {},
     "output_type": "execute_result"
    }
   ],
   "source": [
    "llm = Ollama(model=\"llama2\")\n",
    "llm.invoke(\"The first man on the moon was ...\")"
   ]
  },
  {
   "cell_type": "code",
   "execution_count": 4,
   "metadata": {},
   "outputs": [
    {
     "data": {
      "text/plain": [
       "'\\nOf course! Here are the categories for each expense you provided:\\n\\n* Spotify AB by Adyen - Entertainment\\n* Beta Boulders Ams Amsterdam Nld - Sports\\n* Taxi Utrecht - Transportation\\n* Ministerie van Justitie en Veiligheid - Government\\n* Etos AMSTERDAM NLD - Grocery\\n* Bistro Bar Amsterdam - Food and Drink'"
      ]
     },
     "execution_count": 4,
     "metadata": {},
     "output_type": "execute_result"
    }
   ],
   "source": [
    "llm.invoke(\"Can you add an appropriate category next to each of the following expenses. Respond with a list of categories separated by commas. For example, Spotify AB by Adyen - \\\n",
    "Entertainment, Beta Boulders Ams Amsterdam Nld - Sports, etc.: \\\n",
    "Taxi Utrecht, Ministerie van Justitie en Veiligheid, Etos AMSTERDAM NLD, Bistro Bar Amsterdam\")"
   ]
  },
  {
   "cell_type": "markdown",
   "metadata": {},
   "source": [
    "### Read transaction data"
   ]
  },
  {
   "cell_type": "code",
   "execution_count": 5,
   "metadata": {},
   "outputs": [
    {
     "data": {
      "text/html": [
       "<div>\n",
       "<style scoped>\n",
       "    .dataframe tbody tr th:only-of-type {\n",
       "        vertical-align: middle;\n",
       "    }\n",
       "\n",
       "    .dataframe tbody tr th {\n",
       "        vertical-align: top;\n",
       "    }\n",
       "\n",
       "    .dataframe thead th {\n",
       "        text-align: right;\n",
       "    }\n",
       "</style>\n",
       "<table border=\"1\" class=\"dataframe\">\n",
       "  <thead>\n",
       "    <tr style=\"text-align: right;\">\n",
       "      <th></th>\n",
       "      <th>Date</th>\n",
       "      <th>Name / Description</th>\n",
       "      <th>Expense/Income</th>\n",
       "      <th>Amount (EUR)</th>\n",
       "    </tr>\n",
       "  </thead>\n",
       "  <tbody>\n",
       "    <tr>\n",
       "      <th>0</th>\n",
       "      <td>2023-12-30</td>\n",
       "      <td>Belastingdienst</td>\n",
       "      <td>Expense</td>\n",
       "      <td>9.96</td>\n",
       "    </tr>\n",
       "    <tr>\n",
       "      <th>1</th>\n",
       "      <td>2023-12-30</td>\n",
       "      <td>Tesco Breda</td>\n",
       "      <td>Expense</td>\n",
       "      <td>17.53</td>\n",
       "    </tr>\n",
       "    <tr>\n",
       "      <th>2</th>\n",
       "      <td>2023-12-30</td>\n",
       "      <td>Monthly Appartment Rent</td>\n",
       "      <td>Expense</td>\n",
       "      <td>451.00</td>\n",
       "    </tr>\n",
       "    <tr>\n",
       "      <th>3</th>\n",
       "      <td>2023-12-30</td>\n",
       "      <td>Vishandel Sier Amsterdam</td>\n",
       "      <td>Expense</td>\n",
       "      <td>12.46</td>\n",
       "    </tr>\n",
       "    <tr>\n",
       "      <th>4</th>\n",
       "      <td>2023-12-29</td>\n",
       "      <td>Selling Paintings</td>\n",
       "      <td>Income</td>\n",
       "      <td>13.63</td>\n",
       "    </tr>\n",
       "  </tbody>\n",
       "</table>\n",
       "</div>"
      ],
      "text/plain": [
       "         Date        Name / Description Expense/Income  Amount (EUR)\n",
       "0  2023-12-30           Belastingdienst        Expense          9.96\n",
       "1  2023-12-30               Tesco Breda        Expense         17.53\n",
       "2  2023-12-30   Monthly Appartment Rent        Expense        451.00\n",
       "3  2023-12-30  Vishandel Sier Amsterdam        Expense         12.46\n",
       "4  2023-12-29         Selling Paintings         Income         13.63"
      ]
     },
     "execution_count": 5,
     "metadata": {},
     "output_type": "execute_result"
    }
   ],
   "source": [
    "# Read the transactions_2022_2023.csv file \n",
    "import pandas as pd\n",
    "df = pd.read_csv(\"transactions_2022_2023.csv\")\n",
    "df.head()"
   ]
  },
  {
   "cell_type": "code",
   "execution_count": 6,
   "metadata": {},
   "outputs": [
    {
     "data": {
      "text/plain": [
       "23"
      ]
     },
     "execution_count": 6,
     "metadata": {},
     "output_type": "execute_result"
    }
   ],
   "source": [
    "# Get unique transactions in the Name / Description column\n",
    "unique_transactions = df[\"Name / Description\"].unique()\n",
    "len(unique_transactions)"
   ]
  },
  {
   "cell_type": "code",
   "execution_count": 7,
   "metadata": {},
   "outputs": [
    {
     "data": {
      "text/plain": [
       "array(['Tesco Breda', 'Monthly Appartment Rent',\n",
       "       'Vishandel Sier Amsterdam', 'Selling Paintings',\n",
       "       'Spotify Ab By Adyen', 'Tk Maxx Amsterdam Da', 'Consulting',\n",
       "       'Aidsfonds', 'Tls Bv Inz Ov-Chipkaart'], dtype=object)"
      ]
     },
     "execution_count": 7,
     "metadata": {},
     "output_type": "execute_result"
    }
   ],
   "source": [
    "unique_transactions[1:10]"
   ]
  },
  {
   "cell_type": "markdown",
   "metadata": {},
   "source": [
    "### Categorise bank transactions with Llama2"
   ]
  },
  {
   "cell_type": "code",
   "execution_count": 30,
   "metadata": {},
   "outputs": [
    {
     "data": {
      "text/plain": [
       "[0, 49]"
      ]
     },
     "execution_count": 30,
     "metadata": {},
     "output_type": "execute_result"
    }
   ],
   "source": [
    "# Get index list\n",
    "#https://stackoverflow.com/questions/47518609/for-loop-range-and-interval-how-to-include-last-step\n",
    "def hop(start, stop, step):\n",
    "    for i in range(start, stop, step):\n",
    "        yield i\n",
    "    yield stop\n",
    "\n",
    "index_list = list(hop(0, len(unique_transactions), 50))\n",
    "index_list"
   ]
  },
  {
   "cell_type": "code",
   "execution_count": 31,
   "metadata": {},
   "outputs": [],
   "source": [
    "def categorize_transactions(transaction_names, llm):\n",
    "    response = llm.invoke(\"Can you add an appropriate category to the following expenses. For example: Spotify AB by Adyen - Entertainment, Beta Boulders Ams Amsterdam Nld - Sport, etc.. Categories should be less than 4 words. \" + transaction_names)\n",
    "    response = response.split('\\n')\n",
    "\n",
    "    print(response)\n",
    "\n",
    "    # Put in dataframe\n",
    "    categories_df = pd.DataFrame({'Transaction vs category': response})\n",
    "    categories_df[['Transaction', 'Category']] = categories_df['Transaction vs category'].str.split(' - ', expand=True)\n",
    "    \n",
    "    return categories_df"
   ]
  },
  {
   "cell_type": "code",
   "execution_count": 32,
   "metadata": {},
   "outputs": [
    {
     "name": "stdout",
     "output_type": "stream",
     "text": [
      "['', 'Sure! Here are the categories for each expense:', '', '1. Spotify AB by Adyen - Entertainment', '2. ISS Catering Services De Meern - Food', '3. Taxi Utrecht - Transportation', '4. Etos AMSTERDAM NLD - Groceries', '5. Bistro Bar Amsterdam - Dining']\n"
     ]
    },
    {
     "data": {
      "text/html": [
       "<div>\n",
       "<style scoped>\n",
       "    .dataframe tbody tr th:only-of-type {\n",
       "        vertical-align: middle;\n",
       "    }\n",
       "\n",
       "    .dataframe tbody tr th {\n",
       "        vertical-align: top;\n",
       "    }\n",
       "\n",
       "    .dataframe thead th {\n",
       "        text-align: right;\n",
       "    }\n",
       "</style>\n",
       "<table border=\"1\" class=\"dataframe\">\n",
       "  <thead>\n",
       "    <tr style=\"text-align: right;\">\n",
       "      <th></th>\n",
       "      <th>Transaction vs category</th>\n",
       "      <th>Transaction</th>\n",
       "      <th>Category</th>\n",
       "    </tr>\n",
       "  </thead>\n",
       "  <tbody>\n",
       "    <tr>\n",
       "      <th>0</th>\n",
       "      <td></td>\n",
       "      <td></td>\n",
       "      <td>None</td>\n",
       "    </tr>\n",
       "    <tr>\n",
       "      <th>1</th>\n",
       "      <td>Sure! Here are the categories for each expense:</td>\n",
       "      <td>Sure! Here are the categories for each expense:</td>\n",
       "      <td>None</td>\n",
       "    </tr>\n",
       "    <tr>\n",
       "      <th>2</th>\n",
       "      <td></td>\n",
       "      <td></td>\n",
       "      <td>None</td>\n",
       "    </tr>\n",
       "    <tr>\n",
       "      <th>3</th>\n",
       "      <td>1. Spotify AB by Adyen - Entertainment</td>\n",
       "      <td>1. Spotify AB by Adyen</td>\n",
       "      <td>Entertainment</td>\n",
       "    </tr>\n",
       "    <tr>\n",
       "      <th>4</th>\n",
       "      <td>2. ISS Catering Services De Meern - Food</td>\n",
       "      <td>2. ISS Catering Services De Meern</td>\n",
       "      <td>Food</td>\n",
       "    </tr>\n",
       "    <tr>\n",
       "      <th>5</th>\n",
       "      <td>3. Taxi Utrecht - Transportation</td>\n",
       "      <td>3. Taxi Utrecht</td>\n",
       "      <td>Transportation</td>\n",
       "    </tr>\n",
       "    <tr>\n",
       "      <th>6</th>\n",
       "      <td>4. Etos AMSTERDAM NLD - Groceries</td>\n",
       "      <td>4. Etos AMSTERDAM NLD</td>\n",
       "      <td>Groceries</td>\n",
       "    </tr>\n",
       "    <tr>\n",
       "      <th>7</th>\n",
       "      <td>5. Bistro Bar Amsterdam - Dining</td>\n",
       "      <td>5. Bistro Bar Amsterdam</td>\n",
       "      <td>Dining</td>\n",
       "    </tr>\n",
       "  </tbody>\n",
       "</table>\n",
       "</div>"
      ],
      "text/plain": [
       "                           Transaction vs category  \\\n",
       "0                                                    \n",
       "1  Sure! Here are the categories for each expense:   \n",
       "2                                                    \n",
       "3           1. Spotify AB by Adyen - Entertainment   \n",
       "4         2. ISS Catering Services De Meern - Food   \n",
       "5                 3. Taxi Utrecht - Transportation   \n",
       "6                4. Etos AMSTERDAM NLD - Groceries   \n",
       "7                 5. Bistro Bar Amsterdam - Dining   \n",
       "\n",
       "                                       Transaction        Category  \n",
       "0                                                             None  \n",
       "1  Sure! Here are the categories for each expense:            None  \n",
       "2                                                             None  \n",
       "3                           1. Spotify AB by Adyen   Entertainment  \n",
       "4                2. ISS Catering Services De Meern            Food  \n",
       "5                                  3. Taxi Utrecht  Transportation  \n",
       "6                            4. Etos AMSTERDAM NLD       Groceries  \n",
       "7                          5. Bistro Bar Amsterdam          Dining  "
      ]
     },
     "execution_count": 32,
     "metadata": {},
     "output_type": "execute_result"
    }
   ],
   "source": [
    "# Test out the function\n",
    "categorize_transactions('ISS Catering Services De Meern, Taxi Utrecht, Etos AMSTERDAM NLD, Bistro Bar Amsterdam',\n",
    "                        llm)"
   ]
  },
  {
   "cell_type": "code",
   "execution_count": 33,
   "metadata": {},
   "outputs": [
    {
     "name": "stdout",
     "output_type": "stream",
     "text": [
      "['Of course! Here are the transactions with appropriate categories:', '', 'Transaction 1 - Entertainment', '', '* Spotify AB by Adyen ($10.00)', '', 'Transaction 2 - Sport', '', '* Beta Boulders Ams Amsterdam Nld ($25.00)', '', 'Transaction 3 - Travel', '', '* Flight from NYC to LA ($300.00)', '', 'Transaction 4 - Eating Out', '', '* Italian Restaurant in Manhattan ($60.00)', '', 'Transaction 5 - Groceries', '', '* Whole Foods Gift Card ($100.00)', '', 'Transaction 6 - Clothing', '', '* New Dress from Nordstrom ($150.00)', '', 'Transaction 7 - Electronics', '', '* New Laptop from Best Buy ($1,000.00)', '', 'Transaction 8 - Home Improvement', '', '* Home Depot Gift Card ($200.00)', '', 'Transaction 9 - Pet Expenses', '', '* Vet Visit for Fluffy ($75.00)', '', 'Transaction 10 - Miscellaneous', '', '* Uber Rides in LA ($40.00)', '', 'Transaction 11 - Entertainment', '', '* Ticketmaster Gift Card ($200.00)', '', 'Transaction 12 - Travel', '', '* Hotel Stay in Miami ($150.00)', '', 'Transaction 13 - Eating Out', '', '* Sushi Dinner in San Francisco ($80.00)', '', 'Transaction 14 - Sport', '', '* Gym Membership ($120.00)', '', 'Transaction 15 - Miscellaneous', '', '* Streaming Services Subscription ($10.00)', '', 'I hope this helps! Let me know if you need any further assistance.']\n"
     ]
    }
   ],
   "source": [
    "# Intialise the categories_df_all dataframe\n",
    "categories_df_all = pd.DataFrame()\n",
    "\n",
    "# Loop through the index_list\n",
    "for i in range(0, len(index_list)-1):\n",
    "    transaction_names = unique_transactions[index_list[i]:index_list[i+1]]\n",
    "    transaction_names = ','.join(transaction_names)\n",
    "\n",
    "    categories_df = categorize_transactions(transaction_names, llm)\n",
    "    categories_df_all = pd.concat([categories_df_all, categories_df], ignore_index=True)"
   ]
  },
  {
   "cell_type": "code",
   "execution_count": 34,
   "metadata": {},
   "outputs": [
    {
     "name": "stdout",
     "output_type": "stream",
     "text": [
      "      Transaction vs category    Transaction   Category\n",
      "0    Transaction1 - Category1   Transaction1  Category1\n",
      "1    Transaction2 - Category2   Transaction2  Category2\n",
      "2    Transaction3 - Category3   Transaction3  Category3\n",
      "3    Transaction4 - Category4   Transaction4  Category4\n",
      "4    Transaction5 - Category0   Transaction5  Category0\n",
      "5    Transaction6 - Category1   Transaction6  Category1\n",
      "6    Transaction7 - Category2   Transaction7  Category2\n",
      "7    Transaction8 - Category3   Transaction8  Category3\n",
      "8    Transaction9 - Category4   Transaction9  Category4\n",
      "9   Transaction10 - Category0  Transaction10  Category0\n",
      "10  Transaction11 - Category1  Transaction11  Category1\n",
      "11  Transaction12 - Category2  Transaction12  Category2\n",
      "12  Transaction13 - Category3  Transaction13  Category3\n",
      "13  Transaction14 - Category4  Transaction14  Category4\n",
      "14  Transaction15 - Category0  Transaction15  Category0\n",
      "15  Transaction16 - Category1  Transaction16  Category1\n",
      "16  Transaction17 - Category2  Transaction17  Category2\n",
      "17  Transaction18 - Category3  Transaction18  Category3\n",
      "18  Transaction19 - Category4  Transaction19  Category4\n",
      "19  Transaction20 - Category0  Transaction20  Category0\n",
      "20  Transaction21 - Category1  Transaction21  Category1\n",
      "21  Transaction22 - Category2  Transaction22  Category2\n",
      "22  Transaction23 - Category3  Transaction23  Category3\n",
      "23  Transaction24 - Category4  Transaction24  Category4\n",
      "24  Transaction25 - Category0  Transaction25  Category0\n",
      "25  Transaction26 - Category1  Transaction26  Category1\n",
      "26  Transaction27 - Category2  Transaction27  Category2\n",
      "27  Transaction28 - Category3  Transaction28  Category3\n",
      "28  Transaction29 - Category4  Transaction29  Category4\n",
      "29  Transaction30 - Category0  Transaction30  Category0\n",
      "30  Transaction31 - Category1  Transaction31  Category1\n",
      "31  Transaction32 - Category2  Transaction32  Category2\n",
      "32  Transaction33 - Category3  Transaction33  Category3\n",
      "33  Transaction34 - Category4  Transaction34  Category4\n",
      "34  Transaction35 - Category0  Transaction35  Category0\n",
      "35  Transaction36 - Category1  Transaction36  Category1\n",
      "36  Transaction37 - Category2  Transaction37  Category2\n",
      "37  Transaction38 - Category3  Transaction38  Category3\n",
      "38  Transaction39 - Category4  Transaction39  Category4\n",
      "39  Transaction40 - Category0  Transaction40  Category0\n"
     ]
    }
   ],
   "source": [
    "import pandas as pd\n",
    "\n",
    "# Simulate 30 unique transactions\n",
    "unique_transactions = [\n",
    "    f\"Transaction{i} - Category{i % 5}\" for i in range(1, 50)  # 5 categories cycling\n",
    "]\n",
    "\n",
    "# Simulate index_list to group transactions in chunks of 10\n",
    "index_list = list(range(0, len(unique_transactions) + 1, 10))  # [0, 10, 20, 30]\n",
    "\n",
    "categories_df_all = pd.DataFrame()\n",
    "\n",
    "# Simulated categorize_transactions function\n",
    "def categorize_transactions(transaction_names, llm):\n",
    "    # Simulate response in the expected format\n",
    "    response = transaction_names.split(\",\")\n",
    "    categories_df = pd.DataFrame({'Transaction vs category': response})\n",
    "    return categories_df\n",
    "\n",
    "# Process the transactions\n",
    "for i in range(0, len(index_list) - 1):\n",
    "    # Get transactions in the current range\n",
    "    transaction_names = unique_transactions[index_list[i]:index_list[i + 1]]\n",
    "    transaction_names = ','.join(transaction_names)\n",
    "    \n",
    "    # Call categorize_transactions and handle errors\n",
    "    try:\n",
    "        categories_df = categorize_transactions(transaction_names, llm=None)  # Pass 'llm' as needed\n",
    "        # Filter and split valid rows\n",
    "        categories_df = categories_df[categories_df['Transaction vs category'].str.contains(' - ', na=False)]\n",
    "        categories_df[['Transaction', 'Category']] = categories_df['Transaction vs category'].str.split(' - ', expand=True)\n",
    "        # Concatenate to the master dataframe\n",
    "        categories_df_all = pd.concat([categories_df_all, categories_df], ignore_index=True)\n",
    "    except Exception as e:\n",
    "        print(f\"Error processing transactions in range {i}-{i+1}: {e}\")\n",
    "\n",
    "# Display the final output\n",
    "print(categories_df_all)\n"
   ]
  },
  {
   "cell_type": "code",
   "execution_count": 35,
   "metadata": {},
   "outputs": [
    {
     "data": {
      "text/html": [
       "<div>\n",
       "<style scoped>\n",
       "    .dataframe tbody tr th:only-of-type {\n",
       "        vertical-align: middle;\n",
       "    }\n",
       "\n",
       "    .dataframe tbody tr th {\n",
       "        vertical-align: top;\n",
       "    }\n",
       "\n",
       "    .dataframe thead th {\n",
       "        text-align: right;\n",
       "    }\n",
       "</style>\n",
       "<table border=\"1\" class=\"dataframe\">\n",
       "  <thead>\n",
       "    <tr style=\"text-align: right;\">\n",
       "      <th></th>\n",
       "      <th>Transaction vs category</th>\n",
       "      <th>Transaction</th>\n",
       "      <th>Category</th>\n",
       "    </tr>\n",
       "  </thead>\n",
       "  <tbody>\n",
       "    <tr>\n",
       "      <th>0</th>\n",
       "      <td>Transaction1 - Category1</td>\n",
       "      <td>Transaction1</td>\n",
       "      <td>Category1</td>\n",
       "    </tr>\n",
       "    <tr>\n",
       "      <th>1</th>\n",
       "      <td>Transaction2 - Category2</td>\n",
       "      <td>Transaction2</td>\n",
       "      <td>Category2</td>\n",
       "    </tr>\n",
       "    <tr>\n",
       "      <th>2</th>\n",
       "      <td>Transaction3 - Category3</td>\n",
       "      <td>Transaction3</td>\n",
       "      <td>Category3</td>\n",
       "    </tr>\n",
       "    <tr>\n",
       "      <th>3</th>\n",
       "      <td>Transaction4 - Category4</td>\n",
       "      <td>Transaction4</td>\n",
       "      <td>Category4</td>\n",
       "    </tr>\n",
       "    <tr>\n",
       "      <th>4</th>\n",
       "      <td>Transaction5 - Category0</td>\n",
       "      <td>Transaction5</td>\n",
       "      <td>Category0</td>\n",
       "    </tr>\n",
       "    <tr>\n",
       "      <th>5</th>\n",
       "      <td>Transaction6 - Category1</td>\n",
       "      <td>Transaction6</td>\n",
       "      <td>Category1</td>\n",
       "    </tr>\n",
       "    <tr>\n",
       "      <th>6</th>\n",
       "      <td>Transaction7 - Category2</td>\n",
       "      <td>Transaction7</td>\n",
       "      <td>Category2</td>\n",
       "    </tr>\n",
       "    <tr>\n",
       "      <th>7</th>\n",
       "      <td>Transaction8 - Category3</td>\n",
       "      <td>Transaction8</td>\n",
       "      <td>Category3</td>\n",
       "    </tr>\n",
       "    <tr>\n",
       "      <th>8</th>\n",
       "      <td>Transaction9 - Category4</td>\n",
       "      <td>Transaction9</td>\n",
       "      <td>Category4</td>\n",
       "    </tr>\n",
       "    <tr>\n",
       "      <th>9</th>\n",
       "      <td>Transaction10 - Category0</td>\n",
       "      <td>Transaction10</td>\n",
       "      <td>Category0</td>\n",
       "    </tr>\n",
       "    <tr>\n",
       "      <th>10</th>\n",
       "      <td>Transaction11 - Category1</td>\n",
       "      <td>Transaction11</td>\n",
       "      <td>Category1</td>\n",
       "    </tr>\n",
       "    <tr>\n",
       "      <th>11</th>\n",
       "      <td>Transaction12 - Category2</td>\n",
       "      <td>Transaction12</td>\n",
       "      <td>Category2</td>\n",
       "    </tr>\n",
       "    <tr>\n",
       "      <th>12</th>\n",
       "      <td>Transaction13 - Category3</td>\n",
       "      <td>Transaction13</td>\n",
       "      <td>Category3</td>\n",
       "    </tr>\n",
       "    <tr>\n",
       "      <th>13</th>\n",
       "      <td>Transaction14 - Category4</td>\n",
       "      <td>Transaction14</td>\n",
       "      <td>Category4</td>\n",
       "    </tr>\n",
       "    <tr>\n",
       "      <th>14</th>\n",
       "      <td>Transaction15 - Category0</td>\n",
       "      <td>Transaction15</td>\n",
       "      <td>Category0</td>\n",
       "    </tr>\n",
       "    <tr>\n",
       "      <th>15</th>\n",
       "      <td>Transaction16 - Category1</td>\n",
       "      <td>Transaction16</td>\n",
       "      <td>Category1</td>\n",
       "    </tr>\n",
       "    <tr>\n",
       "      <th>16</th>\n",
       "      <td>Transaction17 - Category2</td>\n",
       "      <td>Transaction17</td>\n",
       "      <td>Category2</td>\n",
       "    </tr>\n",
       "    <tr>\n",
       "      <th>17</th>\n",
       "      <td>Transaction18 - Category3</td>\n",
       "      <td>Transaction18</td>\n",
       "      <td>Category3</td>\n",
       "    </tr>\n",
       "    <tr>\n",
       "      <th>18</th>\n",
       "      <td>Transaction19 - Category4</td>\n",
       "      <td>Transaction19</td>\n",
       "      <td>Category4</td>\n",
       "    </tr>\n",
       "    <tr>\n",
       "      <th>19</th>\n",
       "      <td>Transaction20 - Category0</td>\n",
       "      <td>Transaction20</td>\n",
       "      <td>Category0</td>\n",
       "    </tr>\n",
       "    <tr>\n",
       "      <th>20</th>\n",
       "      <td>Transaction21 - Category1</td>\n",
       "      <td>Transaction21</td>\n",
       "      <td>Category1</td>\n",
       "    </tr>\n",
       "    <tr>\n",
       "      <th>21</th>\n",
       "      <td>Transaction22 - Category2</td>\n",
       "      <td>Transaction22</td>\n",
       "      <td>Category2</td>\n",
       "    </tr>\n",
       "    <tr>\n",
       "      <th>22</th>\n",
       "      <td>Transaction23 - Category3</td>\n",
       "      <td>Transaction23</td>\n",
       "      <td>Category3</td>\n",
       "    </tr>\n",
       "    <tr>\n",
       "      <th>23</th>\n",
       "      <td>Transaction24 - Category4</td>\n",
       "      <td>Transaction24</td>\n",
       "      <td>Category4</td>\n",
       "    </tr>\n",
       "    <tr>\n",
       "      <th>24</th>\n",
       "      <td>Transaction25 - Category0</td>\n",
       "      <td>Transaction25</td>\n",
       "      <td>Category0</td>\n",
       "    </tr>\n",
       "    <tr>\n",
       "      <th>25</th>\n",
       "      <td>Transaction26 - Category1</td>\n",
       "      <td>Transaction26</td>\n",
       "      <td>Category1</td>\n",
       "    </tr>\n",
       "    <tr>\n",
       "      <th>26</th>\n",
       "      <td>Transaction27 - Category2</td>\n",
       "      <td>Transaction27</td>\n",
       "      <td>Category2</td>\n",
       "    </tr>\n",
       "    <tr>\n",
       "      <th>27</th>\n",
       "      <td>Transaction28 - Category3</td>\n",
       "      <td>Transaction28</td>\n",
       "      <td>Category3</td>\n",
       "    </tr>\n",
       "    <tr>\n",
       "      <th>28</th>\n",
       "      <td>Transaction29 - Category4</td>\n",
       "      <td>Transaction29</td>\n",
       "      <td>Category4</td>\n",
       "    </tr>\n",
       "    <tr>\n",
       "      <th>29</th>\n",
       "      <td>Transaction30 - Category0</td>\n",
       "      <td>Transaction30</td>\n",
       "      <td>Category0</td>\n",
       "    </tr>\n",
       "    <tr>\n",
       "      <th>30</th>\n",
       "      <td>Transaction31 - Category1</td>\n",
       "      <td>Transaction31</td>\n",
       "      <td>Category1</td>\n",
       "    </tr>\n",
       "    <tr>\n",
       "      <th>31</th>\n",
       "      <td>Transaction32 - Category2</td>\n",
       "      <td>Transaction32</td>\n",
       "      <td>Category2</td>\n",
       "    </tr>\n",
       "    <tr>\n",
       "      <th>32</th>\n",
       "      <td>Transaction33 - Category3</td>\n",
       "      <td>Transaction33</td>\n",
       "      <td>Category3</td>\n",
       "    </tr>\n",
       "    <tr>\n",
       "      <th>33</th>\n",
       "      <td>Transaction34 - Category4</td>\n",
       "      <td>Transaction34</td>\n",
       "      <td>Category4</td>\n",
       "    </tr>\n",
       "    <tr>\n",
       "      <th>34</th>\n",
       "      <td>Transaction35 - Category0</td>\n",
       "      <td>Transaction35</td>\n",
       "      <td>Category0</td>\n",
       "    </tr>\n",
       "    <tr>\n",
       "      <th>35</th>\n",
       "      <td>Transaction36 - Category1</td>\n",
       "      <td>Transaction36</td>\n",
       "      <td>Category1</td>\n",
       "    </tr>\n",
       "    <tr>\n",
       "      <th>36</th>\n",
       "      <td>Transaction37 - Category2</td>\n",
       "      <td>Transaction37</td>\n",
       "      <td>Category2</td>\n",
       "    </tr>\n",
       "    <tr>\n",
       "      <th>37</th>\n",
       "      <td>Transaction38 - Category3</td>\n",
       "      <td>Transaction38</td>\n",
       "      <td>Category3</td>\n",
       "    </tr>\n",
       "    <tr>\n",
       "      <th>38</th>\n",
       "      <td>Transaction39 - Category4</td>\n",
       "      <td>Transaction39</td>\n",
       "      <td>Category4</td>\n",
       "    </tr>\n",
       "    <tr>\n",
       "      <th>39</th>\n",
       "      <td>Transaction40 - Category0</td>\n",
       "      <td>Transaction40</td>\n",
       "      <td>Category0</td>\n",
       "    </tr>\n",
       "  </tbody>\n",
       "</table>\n",
       "</div>"
      ],
      "text/plain": [
       "      Transaction vs category    Transaction   Category\n",
       "0    Transaction1 - Category1   Transaction1  Category1\n",
       "1    Transaction2 - Category2   Transaction2  Category2\n",
       "2    Transaction3 - Category3   Transaction3  Category3\n",
       "3    Transaction4 - Category4   Transaction4  Category4\n",
       "4    Transaction5 - Category0   Transaction5  Category0\n",
       "5    Transaction6 - Category1   Transaction6  Category1\n",
       "6    Transaction7 - Category2   Transaction7  Category2\n",
       "7    Transaction8 - Category3   Transaction8  Category3\n",
       "8    Transaction9 - Category4   Transaction9  Category4\n",
       "9   Transaction10 - Category0  Transaction10  Category0\n",
       "10  Transaction11 - Category1  Transaction11  Category1\n",
       "11  Transaction12 - Category2  Transaction12  Category2\n",
       "12  Transaction13 - Category3  Transaction13  Category3\n",
       "13  Transaction14 - Category4  Transaction14  Category4\n",
       "14  Transaction15 - Category0  Transaction15  Category0\n",
       "15  Transaction16 - Category1  Transaction16  Category1\n",
       "16  Transaction17 - Category2  Transaction17  Category2\n",
       "17  Transaction18 - Category3  Transaction18  Category3\n",
       "18  Transaction19 - Category4  Transaction19  Category4\n",
       "19  Transaction20 - Category0  Transaction20  Category0\n",
       "20  Transaction21 - Category1  Transaction21  Category1\n",
       "21  Transaction22 - Category2  Transaction22  Category2\n",
       "22  Transaction23 - Category3  Transaction23  Category3\n",
       "23  Transaction24 - Category4  Transaction24  Category4\n",
       "24  Transaction25 - Category0  Transaction25  Category0\n",
       "25  Transaction26 - Category1  Transaction26  Category1\n",
       "26  Transaction27 - Category2  Transaction27  Category2\n",
       "27  Transaction28 - Category3  Transaction28  Category3\n",
       "28  Transaction29 - Category4  Transaction29  Category4\n",
       "29  Transaction30 - Category0  Transaction30  Category0\n",
       "30  Transaction31 - Category1  Transaction31  Category1\n",
       "31  Transaction32 - Category2  Transaction32  Category2\n",
       "32  Transaction33 - Category3  Transaction33  Category3\n",
       "33  Transaction34 - Category4  Transaction34  Category4\n",
       "34  Transaction35 - Category0  Transaction35  Category0\n",
       "35  Transaction36 - Category1  Transaction36  Category1\n",
       "36  Transaction37 - Category2  Transaction37  Category2\n",
       "37  Transaction38 - Category3  Transaction38  Category3\n",
       "38  Transaction39 - Category4  Transaction39  Category4\n",
       "39  Transaction40 - Category0  Transaction40  Category0"
      ]
     },
     "execution_count": 35,
     "metadata": {},
     "output_type": "execute_result"
    }
   ],
   "source": [
    "categories_df_all"
   ]
  },
  {
   "cell_type": "code",
   "execution_count": 36,
   "metadata": {},
   "outputs": [],
   "source": [
    "# categories_df_all.to_csv(\"categories_df_all.csv\", index=False)"
   ]
  },
  {
   "cell_type": "code",
   "execution_count": 15,
   "metadata": {},
   "outputs": [
    {
     "data": {
      "text/plain": [
       "array(['Category1', 'Category2', 'Category3', 'Category4', 'Category0'],\n",
       "      dtype=object)"
      ]
     },
     "execution_count": 15,
     "metadata": {},
     "output_type": "execute_result"
    }
   ],
   "source": [
    "# Get unique categories in categories_df_all\n",
    "unique_categories = categories_df_all[\"Category\"].unique()\n",
    "unique_categories"
   ]
  },
  {
   "cell_type": "code",
   "execution_count": 41,
   "metadata": {},
   "outputs": [],
   "source": [
    "# Drop NA values\n",
    "categories_df_all = categories_df_all.dropna()\n",
    "\n",
    "# If category contains \"Food\", then categorise as \"Food and Drinks\"\n",
    "categories_df_all.loc[categories_df_all['Category'].str.contains(\"Food\"), 'Category'] = \"Food and Drinks\"\n",
    "# If category contains \"Clothing\", then categorise as \"Clothing\"\n",
    "categories_df_all.loc[categories_df_all['Category'].str.contains(\"Clothing\"), 'Category'] = \"Clothing\"\n",
    "# If category contains \"Services\", then categorise as \"Services\"\n",
    "categories_df_all.loc[categories_df_all['Category'].str.contains(\"Services\"), 'Category'] = \"Services\"\n",
    "# If category contains \"Health\" or \"Wellness\", then categorise as \"Health and Wellness\"\n",
    "categories_df_all.loc[categories_df_all['Category'].str.contains(\"Health|Wellness\"), 'Category'] = \"Health and Wellness\"\n",
    "# If category contains \"Sport\", then categorise as \"Sport\n",
    "#  and Fitness\"\n",
    "categories_df_all.loc[categories_df_all['Category'].str.contains(\"Sport\"), 'Category'] = \"Sport and Fitness\"\n",
    "# If category contains \"Travel\", then categorise as \"Travel\"\n",
    "categories_df_all.loc[categories_df_all['Category'].str.contains(\"Travel\"), 'Category'] = \"Travel\""
   ]
  },
  {
   "cell_type": "code",
   "execution_count": 42,
   "metadata": {},
   "outputs": [
    {
     "data": {
      "text/html": [
       "<div>\n",
       "<style scoped>\n",
       "    .dataframe tbody tr th:only-of-type {\n",
       "        vertical-align: middle;\n",
       "    }\n",
       "\n",
       "    .dataframe tbody tr th {\n",
       "        vertical-align: top;\n",
       "    }\n",
       "\n",
       "    .dataframe thead th {\n",
       "        text-align: right;\n",
       "    }\n",
       "</style>\n",
       "<table border=\"1\" class=\"dataframe\">\n",
       "  <thead>\n",
       "    <tr style=\"text-align: right;\">\n",
       "      <th></th>\n",
       "      <th>Transaction vs category</th>\n",
       "      <th>Transaction</th>\n",
       "      <th>Category</th>\n",
       "    </tr>\n",
       "  </thead>\n",
       "  <tbody>\n",
       "    <tr>\n",
       "      <th>0</th>\n",
       "      <td>Transaction1 - Category1</td>\n",
       "      <td>Transaction1</td>\n",
       "      <td>Category1</td>\n",
       "    </tr>\n",
       "    <tr>\n",
       "      <th>1</th>\n",
       "      <td>Transaction2 - Category2</td>\n",
       "      <td>Transaction2</td>\n",
       "      <td>Category2</td>\n",
       "    </tr>\n",
       "    <tr>\n",
       "      <th>2</th>\n",
       "      <td>Transaction3 - Category3</td>\n",
       "      <td>Transaction3</td>\n",
       "      <td>Category3</td>\n",
       "    </tr>\n",
       "    <tr>\n",
       "      <th>3</th>\n",
       "      <td>Transaction4 - Category4</td>\n",
       "      <td>Transaction4</td>\n",
       "      <td>Category4</td>\n",
       "    </tr>\n",
       "    <tr>\n",
       "      <th>4</th>\n",
       "      <td>Transaction5 - Category0</td>\n",
       "      <td>Transaction5</td>\n",
       "      <td>Category0</td>\n",
       "    </tr>\n",
       "    <tr>\n",
       "      <th>5</th>\n",
       "      <td>Transaction6 - Category1</td>\n",
       "      <td>Transaction6</td>\n",
       "      <td>Category1</td>\n",
       "    </tr>\n",
       "    <tr>\n",
       "      <th>6</th>\n",
       "      <td>Transaction7 - Category2</td>\n",
       "      <td>Transaction7</td>\n",
       "      <td>Category2</td>\n",
       "    </tr>\n",
       "    <tr>\n",
       "      <th>7</th>\n",
       "      <td>Transaction8 - Category3</td>\n",
       "      <td>Transaction8</td>\n",
       "      <td>Category3</td>\n",
       "    </tr>\n",
       "    <tr>\n",
       "      <th>8</th>\n",
       "      <td>Transaction9 - Category4</td>\n",
       "      <td>Transaction9</td>\n",
       "      <td>Category4</td>\n",
       "    </tr>\n",
       "    <tr>\n",
       "      <th>9</th>\n",
       "      <td>Transaction10 - Category0</td>\n",
       "      <td>Transaction10</td>\n",
       "      <td>Category0</td>\n",
       "    </tr>\n",
       "    <tr>\n",
       "      <th>10</th>\n",
       "      <td>Transaction11 - Category1</td>\n",
       "      <td>Transaction11</td>\n",
       "      <td>Category1</td>\n",
       "    </tr>\n",
       "    <tr>\n",
       "      <th>11</th>\n",
       "      <td>Transaction12 - Category2</td>\n",
       "      <td>Transaction12</td>\n",
       "      <td>Category2</td>\n",
       "    </tr>\n",
       "    <tr>\n",
       "      <th>12</th>\n",
       "      <td>Transaction13 - Category3</td>\n",
       "      <td>Transaction13</td>\n",
       "      <td>Category3</td>\n",
       "    </tr>\n",
       "    <tr>\n",
       "      <th>13</th>\n",
       "      <td>Transaction14 - Category4</td>\n",
       "      <td>Transaction14</td>\n",
       "      <td>Category4</td>\n",
       "    </tr>\n",
       "    <tr>\n",
       "      <th>14</th>\n",
       "      <td>Transaction15 - Category0</td>\n",
       "      <td>Transaction15</td>\n",
       "      <td>Category0</td>\n",
       "    </tr>\n",
       "    <tr>\n",
       "      <th>15</th>\n",
       "      <td>Transaction16 - Category1</td>\n",
       "      <td>Transaction16</td>\n",
       "      <td>Category1</td>\n",
       "    </tr>\n",
       "    <tr>\n",
       "      <th>16</th>\n",
       "      <td>Transaction17 - Category2</td>\n",
       "      <td>Transaction17</td>\n",
       "      <td>Category2</td>\n",
       "    </tr>\n",
       "    <tr>\n",
       "      <th>17</th>\n",
       "      <td>Transaction18 - Category3</td>\n",
       "      <td>Transaction18</td>\n",
       "      <td>Category3</td>\n",
       "    </tr>\n",
       "    <tr>\n",
       "      <th>18</th>\n",
       "      <td>Transaction19 - Category4</td>\n",
       "      <td>Transaction19</td>\n",
       "      <td>Category4</td>\n",
       "    </tr>\n",
       "    <tr>\n",
       "      <th>19</th>\n",
       "      <td>Transaction20 - Category0</td>\n",
       "      <td>Transaction20</td>\n",
       "      <td>Category0</td>\n",
       "    </tr>\n",
       "    <tr>\n",
       "      <th>20</th>\n",
       "      <td>Transaction21 - Category1</td>\n",
       "      <td>Transaction21</td>\n",
       "      <td>Category1</td>\n",
       "    </tr>\n",
       "    <tr>\n",
       "      <th>21</th>\n",
       "      <td>Transaction22 - Category2</td>\n",
       "      <td>Transaction22</td>\n",
       "      <td>Category2</td>\n",
       "    </tr>\n",
       "    <tr>\n",
       "      <th>22</th>\n",
       "      <td>Transaction23 - Category3</td>\n",
       "      <td>Transaction23</td>\n",
       "      <td>Category3</td>\n",
       "    </tr>\n",
       "    <tr>\n",
       "      <th>23</th>\n",
       "      <td>Transaction24 - Category4</td>\n",
       "      <td>Transaction24</td>\n",
       "      <td>Category4</td>\n",
       "    </tr>\n",
       "    <tr>\n",
       "      <th>24</th>\n",
       "      <td>Transaction25 - Category0</td>\n",
       "      <td>Transaction25</td>\n",
       "      <td>Category0</td>\n",
       "    </tr>\n",
       "    <tr>\n",
       "      <th>25</th>\n",
       "      <td>Transaction26 - Category1</td>\n",
       "      <td>Transaction26</td>\n",
       "      <td>Category1</td>\n",
       "    </tr>\n",
       "    <tr>\n",
       "      <th>26</th>\n",
       "      <td>Transaction27 - Category2</td>\n",
       "      <td>Transaction27</td>\n",
       "      <td>Category2</td>\n",
       "    </tr>\n",
       "    <tr>\n",
       "      <th>27</th>\n",
       "      <td>Transaction28 - Category3</td>\n",
       "      <td>Transaction28</td>\n",
       "      <td>Category3</td>\n",
       "    </tr>\n",
       "    <tr>\n",
       "      <th>28</th>\n",
       "      <td>Transaction29 - Category4</td>\n",
       "      <td>Transaction29</td>\n",
       "      <td>Category4</td>\n",
       "    </tr>\n",
       "    <tr>\n",
       "      <th>29</th>\n",
       "      <td>Transaction30 - Category0</td>\n",
       "      <td>Transaction30</td>\n",
       "      <td>Category0</td>\n",
       "    </tr>\n",
       "    <tr>\n",
       "      <th>30</th>\n",
       "      <td>Transaction31 - Category1</td>\n",
       "      <td>Transaction31</td>\n",
       "      <td>Category1</td>\n",
       "    </tr>\n",
       "    <tr>\n",
       "      <th>31</th>\n",
       "      <td>Transaction32 - Category2</td>\n",
       "      <td>Transaction32</td>\n",
       "      <td>Category2</td>\n",
       "    </tr>\n",
       "    <tr>\n",
       "      <th>32</th>\n",
       "      <td>Transaction33 - Category3</td>\n",
       "      <td>Transaction33</td>\n",
       "      <td>Category3</td>\n",
       "    </tr>\n",
       "    <tr>\n",
       "      <th>33</th>\n",
       "      <td>Transaction34 - Category4</td>\n",
       "      <td>Transaction34</td>\n",
       "      <td>Category4</td>\n",
       "    </tr>\n",
       "    <tr>\n",
       "      <th>34</th>\n",
       "      <td>Transaction35 - Category0</td>\n",
       "      <td>Transaction35</td>\n",
       "      <td>Category0</td>\n",
       "    </tr>\n",
       "    <tr>\n",
       "      <th>35</th>\n",
       "      <td>Transaction36 - Category1</td>\n",
       "      <td>Transaction36</td>\n",
       "      <td>Category1</td>\n",
       "    </tr>\n",
       "    <tr>\n",
       "      <th>36</th>\n",
       "      <td>Transaction37 - Category2</td>\n",
       "      <td>Transaction37</td>\n",
       "      <td>Category2</td>\n",
       "    </tr>\n",
       "    <tr>\n",
       "      <th>37</th>\n",
       "      <td>Transaction38 - Category3</td>\n",
       "      <td>Transaction38</td>\n",
       "      <td>Category3</td>\n",
       "    </tr>\n",
       "    <tr>\n",
       "      <th>38</th>\n",
       "      <td>Transaction39 - Category4</td>\n",
       "      <td>Transaction39</td>\n",
       "      <td>Category4</td>\n",
       "    </tr>\n",
       "    <tr>\n",
       "      <th>39</th>\n",
       "      <td>Transaction40 - Category0</td>\n",
       "      <td>Transaction40</td>\n",
       "      <td>Category0</td>\n",
       "    </tr>\n",
       "  </tbody>\n",
       "</table>\n",
       "</div>"
      ],
      "text/plain": [
       "      Transaction vs category    Transaction   Category\n",
       "0    Transaction1 - Category1   Transaction1  Category1\n",
       "1    Transaction2 - Category2   Transaction2  Category2\n",
       "2    Transaction3 - Category3   Transaction3  Category3\n",
       "3    Transaction4 - Category4   Transaction4  Category4\n",
       "4    Transaction5 - Category0   Transaction5  Category0\n",
       "5    Transaction6 - Category1   Transaction6  Category1\n",
       "6    Transaction7 - Category2   Transaction7  Category2\n",
       "7    Transaction8 - Category3   Transaction8  Category3\n",
       "8    Transaction9 - Category4   Transaction9  Category4\n",
       "9   Transaction10 - Category0  Transaction10  Category0\n",
       "10  Transaction11 - Category1  Transaction11  Category1\n",
       "11  Transaction12 - Category2  Transaction12  Category2\n",
       "12  Transaction13 - Category3  Transaction13  Category3\n",
       "13  Transaction14 - Category4  Transaction14  Category4\n",
       "14  Transaction15 - Category0  Transaction15  Category0\n",
       "15  Transaction16 - Category1  Transaction16  Category1\n",
       "16  Transaction17 - Category2  Transaction17  Category2\n",
       "17  Transaction18 - Category3  Transaction18  Category3\n",
       "18  Transaction19 - Category4  Transaction19  Category4\n",
       "19  Transaction20 - Category0  Transaction20  Category0\n",
       "20  Transaction21 - Category1  Transaction21  Category1\n",
       "21  Transaction22 - Category2  Transaction22  Category2\n",
       "22  Transaction23 - Category3  Transaction23  Category3\n",
       "23  Transaction24 - Category4  Transaction24  Category4\n",
       "24  Transaction25 - Category0  Transaction25  Category0\n",
       "25  Transaction26 - Category1  Transaction26  Category1\n",
       "26  Transaction27 - Category2  Transaction27  Category2\n",
       "27  Transaction28 - Category3  Transaction28  Category3\n",
       "28  Transaction29 - Category4  Transaction29  Category4\n",
       "29  Transaction30 - Category0  Transaction30  Category0\n",
       "30  Transaction31 - Category1  Transaction31  Category1\n",
       "31  Transaction32 - Category2  Transaction32  Category2\n",
       "32  Transaction33 - Category3  Transaction33  Category3\n",
       "33  Transaction34 - Category4  Transaction34  Category4\n",
       "34  Transaction35 - Category0  Transaction35  Category0\n",
       "35  Transaction36 - Category1  Transaction36  Category1\n",
       "36  Transaction37 - Category2  Transaction37  Category2\n",
       "37  Transaction38 - Category3  Transaction38  Category3\n",
       "38  Transaction39 - Category4  Transaction39  Category4\n",
       "39  Transaction40 - Category0  Transaction40  Category0"
      ]
     },
     "execution_count": 42,
     "metadata": {},
     "output_type": "execute_result"
    }
   ],
   "source": [
    "# Remove the numbering eg \"1. \" from Transaction column\n",
    "categories_df_all['Transaction'] = categories_df_all['Transaction'].str.replace(r'\\d+\\.\\s+', '')\n",
    "categories_df_all"
   ]
  },
  {
   "cell_type": "code",
   "execution_count": 43,
   "metadata": {},
   "outputs": [
    {
     "data": {
      "text/html": [
       "<div>\n",
       "<style scoped>\n",
       "    .dataframe tbody tr th:only-of-type {\n",
       "        vertical-align: middle;\n",
       "    }\n",
       "\n",
       "    .dataframe tbody tr th {\n",
       "        vertical-align: top;\n",
       "    }\n",
       "\n",
       "    .dataframe thead th {\n",
       "        text-align: right;\n",
       "    }\n",
       "</style>\n",
       "<table border=\"1\" class=\"dataframe\">\n",
       "  <thead>\n",
       "    <tr style=\"text-align: right;\">\n",
       "      <th></th>\n",
       "      <th>Date</th>\n",
       "      <th>Name / Description</th>\n",
       "      <th>Expense/Income</th>\n",
       "      <th>Amount (EUR)</th>\n",
       "      <th>Transaction vs category</th>\n",
       "      <th>Transaction</th>\n",
       "      <th>Category</th>\n",
       "    </tr>\n",
       "  </thead>\n",
       "  <tbody>\n",
       "    <tr>\n",
       "      <th>0</th>\n",
       "      <td>2023-12-30</td>\n",
       "      <td>Belastingdienst</td>\n",
       "      <td>Expense</td>\n",
       "      <td>9.96</td>\n",
       "      <td>NaN</td>\n",
       "      <td>NaN</td>\n",
       "      <td>NaN</td>\n",
       "    </tr>\n",
       "    <tr>\n",
       "      <th>1</th>\n",
       "      <td>2023-12-30</td>\n",
       "      <td>Tesco Breda</td>\n",
       "      <td>Expense</td>\n",
       "      <td>17.53</td>\n",
       "      <td>NaN</td>\n",
       "      <td>NaN</td>\n",
       "      <td>NaN</td>\n",
       "    </tr>\n",
       "    <tr>\n",
       "      <th>2</th>\n",
       "      <td>2023-12-30</td>\n",
       "      <td>Monthly Appartment Rent</td>\n",
       "      <td>Expense</td>\n",
       "      <td>451.00</td>\n",
       "      <td>NaN</td>\n",
       "      <td>NaN</td>\n",
       "      <td>NaN</td>\n",
       "    </tr>\n",
       "    <tr>\n",
       "      <th>3</th>\n",
       "      <td>2023-12-30</td>\n",
       "      <td>Vishandel Sier Amsterdam</td>\n",
       "      <td>Expense</td>\n",
       "      <td>12.46</td>\n",
       "      <td>NaN</td>\n",
       "      <td>NaN</td>\n",
       "      <td>NaN</td>\n",
       "    </tr>\n",
       "    <tr>\n",
       "      <th>4</th>\n",
       "      <td>2023-12-29</td>\n",
       "      <td>Selling Paintings</td>\n",
       "      <td>Income</td>\n",
       "      <td>13.63</td>\n",
       "      <td>NaN</td>\n",
       "      <td>NaN</td>\n",
       "      <td>NaN</td>\n",
       "    </tr>\n",
       "    <tr>\n",
       "      <th>5</th>\n",
       "      <td>2023-12-29</td>\n",
       "      <td>Spotify Ab By Adyen</td>\n",
       "      <td>Expense</td>\n",
       "      <td>12.19</td>\n",
       "      <td>NaN</td>\n",
       "      <td>NaN</td>\n",
       "      <td>NaN</td>\n",
       "    </tr>\n",
       "    <tr>\n",
       "      <th>6</th>\n",
       "      <td>2023-12-23</td>\n",
       "      <td>Tk Maxx Amsterdam Da</td>\n",
       "      <td>Expense</td>\n",
       "      <td>27.08</td>\n",
       "      <td>NaN</td>\n",
       "      <td>NaN</td>\n",
       "      <td>NaN</td>\n",
       "    </tr>\n",
       "    <tr>\n",
       "      <th>7</th>\n",
       "      <td>2023-12-22</td>\n",
       "      <td>Consulting</td>\n",
       "      <td>Income</td>\n",
       "      <td>541.57</td>\n",
       "      <td>NaN</td>\n",
       "      <td>NaN</td>\n",
       "      <td>NaN</td>\n",
       "    </tr>\n",
       "    <tr>\n",
       "      <th>8</th>\n",
       "      <td>2023-12-22</td>\n",
       "      <td>Aidsfonds</td>\n",
       "      <td>Expense</td>\n",
       "      <td>10.70</td>\n",
       "      <td>NaN</td>\n",
       "      <td>NaN</td>\n",
       "      <td>NaN</td>\n",
       "    </tr>\n",
       "    <tr>\n",
       "      <th>9</th>\n",
       "      <td>2023-12-20</td>\n",
       "      <td>Consulting</td>\n",
       "      <td>Income</td>\n",
       "      <td>2641.93</td>\n",
       "      <td>NaN</td>\n",
       "      <td>NaN</td>\n",
       "      <td>NaN</td>\n",
       "    </tr>\n",
       "    <tr>\n",
       "      <th>10</th>\n",
       "      <td>2023-12-19</td>\n",
       "      <td>Tls Bv Inz Ov-Chipkaart</td>\n",
       "      <td>Expense</td>\n",
       "      <td>18.90</td>\n",
       "      <td>NaN</td>\n",
       "      <td>NaN</td>\n",
       "      <td>NaN</td>\n",
       "    </tr>\n",
       "    <tr>\n",
       "      <th>11</th>\n",
       "      <td>2023-12-18</td>\n",
       "      <td>Etos Amsterdam</td>\n",
       "      <td>Expense</td>\n",
       "      <td>17.67</td>\n",
       "      <td>NaN</td>\n",
       "      <td>NaN</td>\n",
       "      <td>NaN</td>\n",
       "    </tr>\n",
       "    <tr>\n",
       "      <th>12</th>\n",
       "      <td>2023-12-18</td>\n",
       "      <td>Tesco Breda</td>\n",
       "      <td>Expense</td>\n",
       "      <td>8.81</td>\n",
       "      <td>NaN</td>\n",
       "      <td>NaN</td>\n",
       "      <td>NaN</td>\n",
       "    </tr>\n",
       "    <tr>\n",
       "      <th>13</th>\n",
       "      <td>2023-12-18</td>\n",
       "      <td>Beta Boulders Ams Amsterdam</td>\n",
       "      <td>Expense</td>\n",
       "      <td>6.94</td>\n",
       "      <td>NaN</td>\n",
       "      <td>NaN</td>\n",
       "      <td>NaN</td>\n",
       "    </tr>\n",
       "    <tr>\n",
       "      <th>14</th>\n",
       "      <td>2022-11-26</td>\n",
       "      <td>Salary</td>\n",
       "      <td>Income</td>\n",
       "      <td>14.36</td>\n",
       "      <td>NaN</td>\n",
       "      <td>NaN</td>\n",
       "      <td>NaN</td>\n",
       "    </tr>\n",
       "    <tr>\n",
       "      <th>15</th>\n",
       "      <td>2022-11-26</td>\n",
       "      <td>Bouldermuur Bv Amsterdam</td>\n",
       "      <td>Expense</td>\n",
       "      <td>19.27</td>\n",
       "      <td>NaN</td>\n",
       "      <td>NaN</td>\n",
       "      <td>NaN</td>\n",
       "    </tr>\n",
       "    <tr>\n",
       "      <th>16</th>\n",
       "      <td>2022-11-26</td>\n",
       "      <td>Birtat Restaurant Amsterdam</td>\n",
       "      <td>Expense</td>\n",
       "      <td>24.71</td>\n",
       "      <td>NaN</td>\n",
       "      <td>NaN</td>\n",
       "      <td>NaN</td>\n",
       "    </tr>\n",
       "    <tr>\n",
       "      <th>17</th>\n",
       "      <td>2022-11-25</td>\n",
       "      <td>Tesco Breda</td>\n",
       "      <td>Expense</td>\n",
       "      <td>17.35</td>\n",
       "      <td>NaN</td>\n",
       "      <td>NaN</td>\n",
       "      <td>NaN</td>\n",
       "    </tr>\n",
       "    <tr>\n",
       "      <th>18</th>\n",
       "      <td>2022-11-24</td>\n",
       "      <td>Freelancing</td>\n",
       "      <td>Income</td>\n",
       "      <td>2409.55</td>\n",
       "      <td>NaN</td>\n",
       "      <td>NaN</td>\n",
       "      <td>NaN</td>\n",
       "    </tr>\n",
       "    <tr>\n",
       "      <th>19</th>\n",
       "      <td>2022-11-19</td>\n",
       "      <td>Tikkie</td>\n",
       "      <td>Expense</td>\n",
       "      <td>20.76</td>\n",
       "      <td>NaN</td>\n",
       "      <td>NaN</td>\n",
       "      <td>NaN</td>\n",
       "    </tr>\n",
       "    <tr>\n",
       "      <th>20</th>\n",
       "      <td>2022-10-25</td>\n",
       "      <td>Blogging</td>\n",
       "      <td>Income</td>\n",
       "      <td>4044.27</td>\n",
       "      <td>NaN</td>\n",
       "      <td>NaN</td>\n",
       "      <td>NaN</td>\n",
       "    </tr>\n",
       "    <tr>\n",
       "      <th>21</th>\n",
       "      <td>2022-10-24</td>\n",
       "      <td>Taxi Utrecht</td>\n",
       "      <td>Expense</td>\n",
       "      <td>18.90</td>\n",
       "      <td>NaN</td>\n",
       "      <td>NaN</td>\n",
       "      <td>NaN</td>\n",
       "    </tr>\n",
       "    <tr>\n",
       "      <th>22</th>\n",
       "      <td>2022-10-23</td>\n",
       "      <td>Tesco Breda</td>\n",
       "      <td>Expense</td>\n",
       "      <td>27.54</td>\n",
       "      <td>NaN</td>\n",
       "      <td>NaN</td>\n",
       "      <td>NaN</td>\n",
       "    </tr>\n",
       "    <tr>\n",
       "      <th>23</th>\n",
       "      <td>2022-10-22</td>\n",
       "      <td>Apple Services</td>\n",
       "      <td>Expense</td>\n",
       "      <td>41.25</td>\n",
       "      <td>NaN</td>\n",
       "      <td>NaN</td>\n",
       "      <td>NaN</td>\n",
       "    </tr>\n",
       "    <tr>\n",
       "      <th>24</th>\n",
       "      <td>2022-10-21</td>\n",
       "      <td>Tesco Breda</td>\n",
       "      <td>Expense</td>\n",
       "      <td>22.80</td>\n",
       "      <td>NaN</td>\n",
       "      <td>NaN</td>\n",
       "      <td>NaN</td>\n",
       "    </tr>\n",
       "    <tr>\n",
       "      <th>25</th>\n",
       "      <td>2022-01-16</td>\n",
       "      <td>Amazon Lux</td>\n",
       "      <td>Expense</td>\n",
       "      <td>24.11</td>\n",
       "      <td>NaN</td>\n",
       "      <td>NaN</td>\n",
       "      <td>NaN</td>\n",
       "    </tr>\n",
       "    <tr>\n",
       "      <th>26</th>\n",
       "      <td>2022-01-15</td>\n",
       "      <td>Classpass* Monthly</td>\n",
       "      <td>Expense</td>\n",
       "      <td>30.08</td>\n",
       "      <td>NaN</td>\n",
       "      <td>NaN</td>\n",
       "      <td>NaN</td>\n",
       "    </tr>\n",
       "    <tr>\n",
       "      <th>27</th>\n",
       "      <td>2022-01-14</td>\n",
       "      <td>Audible Uk AdblCo/Pymt Gbr</td>\n",
       "      <td>Expense</td>\n",
       "      <td>11.00</td>\n",
       "      <td>NaN</td>\n",
       "      <td>NaN</td>\n",
       "      <td>NaN</td>\n",
       "    </tr>\n",
       "  </tbody>\n",
       "</table>\n",
       "</div>"
      ],
      "text/plain": [
       "          Date           Name / Description Expense/Income  Amount (EUR)  \\\n",
       "0   2023-12-30              Belastingdienst        Expense          9.96   \n",
       "1   2023-12-30                  Tesco Breda        Expense         17.53   \n",
       "2   2023-12-30      Monthly Appartment Rent        Expense        451.00   \n",
       "3   2023-12-30     Vishandel Sier Amsterdam        Expense         12.46   \n",
       "4   2023-12-29            Selling Paintings         Income         13.63   \n",
       "5   2023-12-29          Spotify Ab By Adyen        Expense         12.19   \n",
       "6   2023-12-23         Tk Maxx Amsterdam Da        Expense         27.08   \n",
       "7   2023-12-22                   Consulting         Income        541.57   \n",
       "8   2023-12-22                    Aidsfonds        Expense         10.70   \n",
       "9   2023-12-20                   Consulting         Income       2641.93   \n",
       "10  2023-12-19      Tls Bv Inz Ov-Chipkaart        Expense         18.90   \n",
       "11  2023-12-18               Etos Amsterdam        Expense         17.67   \n",
       "12  2023-12-18                  Tesco Breda        Expense          8.81   \n",
       "13  2023-12-18  Beta Boulders Ams Amsterdam        Expense          6.94   \n",
       "14  2022-11-26                       Salary         Income         14.36   \n",
       "15  2022-11-26     Bouldermuur Bv Amsterdam        Expense         19.27   \n",
       "16  2022-11-26  Birtat Restaurant Amsterdam        Expense         24.71   \n",
       "17  2022-11-25                  Tesco Breda        Expense         17.35   \n",
       "18  2022-11-24                  Freelancing         Income       2409.55   \n",
       "19  2022-11-19                       Tikkie        Expense         20.76   \n",
       "20  2022-10-25                     Blogging         Income       4044.27   \n",
       "21  2022-10-24                 Taxi Utrecht        Expense         18.90   \n",
       "22  2022-10-23                  Tesco Breda        Expense         27.54   \n",
       "23  2022-10-22               Apple Services        Expense         41.25   \n",
       "24  2022-10-21                  Tesco Breda        Expense         22.80   \n",
       "25  2022-01-16                   Amazon Lux        Expense         24.11   \n",
       "26  2022-01-15           Classpass* Monthly        Expense         30.08   \n",
       "27  2022-01-14   Audible Uk AdblCo/Pymt Gbr        Expense         11.00   \n",
       "\n",
       "   Transaction vs category Transaction Category  \n",
       "0                      NaN         NaN      NaN  \n",
       "1                      NaN         NaN      NaN  \n",
       "2                      NaN         NaN      NaN  \n",
       "3                      NaN         NaN      NaN  \n",
       "4                      NaN         NaN      NaN  \n",
       "5                      NaN         NaN      NaN  \n",
       "6                      NaN         NaN      NaN  \n",
       "7                      NaN         NaN      NaN  \n",
       "8                      NaN         NaN      NaN  \n",
       "9                      NaN         NaN      NaN  \n",
       "10                     NaN         NaN      NaN  \n",
       "11                     NaN         NaN      NaN  \n",
       "12                     NaN         NaN      NaN  \n",
       "13                     NaN         NaN      NaN  \n",
       "14                     NaN         NaN      NaN  \n",
       "15                     NaN         NaN      NaN  \n",
       "16                     NaN         NaN      NaN  \n",
       "17                     NaN         NaN      NaN  \n",
       "18                     NaN         NaN      NaN  \n",
       "19                     NaN         NaN      NaN  \n",
       "20                     NaN         NaN      NaN  \n",
       "21                     NaN         NaN      NaN  \n",
       "22                     NaN         NaN      NaN  \n",
       "23                     NaN         NaN      NaN  \n",
       "24                     NaN         NaN      NaN  \n",
       "25                     NaN         NaN      NaN  \n",
       "26                     NaN         NaN      NaN  \n",
       "27                     NaN         NaN      NaN  "
      ]
     },
     "execution_count": 43,
     "metadata": {},
     "output_type": "execute_result"
    }
   ],
   "source": [
    "# Merge the categories_df_all with the transactions_2022_2023.csv dataframe (df)\n",
    "df = pd.read_csv(\"transactions_2022_2023.csv\")\n",
    "df.loc[df['Name / Description'].str.contains(\"Spotify\"), 'Name / Description'] = \"Spotify Ab By Adyen\"\n",
    "df = pd.merge(df, categories_df_all, left_on='Name / Description', right_on='Transaction', how='left')\n",
    "df"
   ]
  },
  {
   "cell_type": "code",
   "execution_count": 45,
   "metadata": {},
   "outputs": [],
   "source": [
    "df.to_csv(\"transactions_2022_2023_categorized.csv\", index=False)"
   ]
  },
  {
   "cell_type": "code",
   "execution_count": 20,
   "metadata": {},
   "outputs": [
    {
     "data": {
      "text/html": [
       "<div>\n",
       "<style scoped>\n",
       "    .dataframe tbody tr th:only-of-type {\n",
       "        vertical-align: middle;\n",
       "    }\n",
       "\n",
       "    .dataframe tbody tr th {\n",
       "        vertical-align: top;\n",
       "    }\n",
       "\n",
       "    .dataframe thead th {\n",
       "        text-align: right;\n",
       "    }\n",
       "</style>\n",
       "<table border=\"1\" class=\"dataframe\">\n",
       "  <thead>\n",
       "    <tr style=\"text-align: right;\">\n",
       "      <th></th>\n",
       "      <th>Date</th>\n",
       "      <th>Name / Description</th>\n",
       "      <th>Expense/Income</th>\n",
       "      <th>Amount (EUR)</th>\n",
       "      <th>Category</th>\n",
       "      <th>Year</th>\n",
       "      <th>Month</th>\n",
       "      <th>Month Name</th>\n",
       "    </tr>\n",
       "  </thead>\n",
       "  <tbody>\n",
       "    <tr>\n",
       "      <th>0</th>\n",
       "      <td>2023-12-30</td>\n",
       "      <td>Belastingdienst</td>\n",
       "      <td>Expense</td>\n",
       "      <td>9.96</td>\n",
       "      <td>NaN</td>\n",
       "      <td>2023</td>\n",
       "      <td>12</td>\n",
       "      <td>Dec</td>\n",
       "    </tr>\n",
       "    <tr>\n",
       "      <th>1</th>\n",
       "      <td>2023-12-30</td>\n",
       "      <td>Tesco Breda</td>\n",
       "      <td>Expense</td>\n",
       "      <td>17.53</td>\n",
       "      <td>NaN</td>\n",
       "      <td>2023</td>\n",
       "      <td>12</td>\n",
       "      <td>Dec</td>\n",
       "    </tr>\n",
       "    <tr>\n",
       "      <th>2</th>\n",
       "      <td>2023-12-30</td>\n",
       "      <td>Monthly Appartment Rent</td>\n",
       "      <td>Expense</td>\n",
       "      <td>451.00</td>\n",
       "      <td>NaN</td>\n",
       "      <td>2023</td>\n",
       "      <td>12</td>\n",
       "      <td>Dec</td>\n",
       "    </tr>\n",
       "    <tr>\n",
       "      <th>3</th>\n",
       "      <td>2023-12-30</td>\n",
       "      <td>Vishandel Sier Amsterdam</td>\n",
       "      <td>Expense</td>\n",
       "      <td>12.46</td>\n",
       "      <td>NaN</td>\n",
       "      <td>2023</td>\n",
       "      <td>12</td>\n",
       "      <td>Dec</td>\n",
       "    </tr>\n",
       "    <tr>\n",
       "      <th>4</th>\n",
       "      <td>2023-12-29</td>\n",
       "      <td>Selling Paintings</td>\n",
       "      <td>Income</td>\n",
       "      <td>13.63</td>\n",
       "      <td>NaN</td>\n",
       "      <td>2023</td>\n",
       "      <td>12</td>\n",
       "      <td>Dec</td>\n",
       "    </tr>\n",
       "    <tr>\n",
       "      <th>5</th>\n",
       "      <td>2023-12-29</td>\n",
       "      <td>Spotify Ab By Adyen</td>\n",
       "      <td>Expense</td>\n",
       "      <td>12.19</td>\n",
       "      <td>NaN</td>\n",
       "      <td>2023</td>\n",
       "      <td>12</td>\n",
       "      <td>Dec</td>\n",
       "    </tr>\n",
       "    <tr>\n",
       "      <th>6</th>\n",
       "      <td>2023-12-23</td>\n",
       "      <td>Tk Maxx Amsterdam Da</td>\n",
       "      <td>Expense</td>\n",
       "      <td>27.08</td>\n",
       "      <td>NaN</td>\n",
       "      <td>2023</td>\n",
       "      <td>12</td>\n",
       "      <td>Dec</td>\n",
       "    </tr>\n",
       "    <tr>\n",
       "      <th>7</th>\n",
       "      <td>2023-12-22</td>\n",
       "      <td>Consulting</td>\n",
       "      <td>Income</td>\n",
       "      <td>541.57</td>\n",
       "      <td>NaN</td>\n",
       "      <td>2023</td>\n",
       "      <td>12</td>\n",
       "      <td>Dec</td>\n",
       "    </tr>\n",
       "    <tr>\n",
       "      <th>8</th>\n",
       "      <td>2023-12-22</td>\n",
       "      <td>Aidsfonds</td>\n",
       "      <td>Expense</td>\n",
       "      <td>10.70</td>\n",
       "      <td>NaN</td>\n",
       "      <td>2023</td>\n",
       "      <td>12</td>\n",
       "      <td>Dec</td>\n",
       "    </tr>\n",
       "    <tr>\n",
       "      <th>9</th>\n",
       "      <td>2023-12-20</td>\n",
       "      <td>Consulting</td>\n",
       "      <td>Income</td>\n",
       "      <td>2641.93</td>\n",
       "      <td>NaN</td>\n",
       "      <td>2023</td>\n",
       "      <td>12</td>\n",
       "      <td>Dec</td>\n",
       "    </tr>\n",
       "    <tr>\n",
       "      <th>10</th>\n",
       "      <td>2023-12-19</td>\n",
       "      <td>Tls Bv Inz Ov-Chipkaart</td>\n",
       "      <td>Expense</td>\n",
       "      <td>18.90</td>\n",
       "      <td>NaN</td>\n",
       "      <td>2023</td>\n",
       "      <td>12</td>\n",
       "      <td>Dec</td>\n",
       "    </tr>\n",
       "    <tr>\n",
       "      <th>11</th>\n",
       "      <td>2023-12-18</td>\n",
       "      <td>Etos Amsterdam</td>\n",
       "      <td>Expense</td>\n",
       "      <td>17.67</td>\n",
       "      <td>NaN</td>\n",
       "      <td>2023</td>\n",
       "      <td>12</td>\n",
       "      <td>Dec</td>\n",
       "    </tr>\n",
       "    <tr>\n",
       "      <th>12</th>\n",
       "      <td>2023-12-18</td>\n",
       "      <td>Tesco Breda</td>\n",
       "      <td>Expense</td>\n",
       "      <td>8.81</td>\n",
       "      <td>NaN</td>\n",
       "      <td>2023</td>\n",
       "      <td>12</td>\n",
       "      <td>Dec</td>\n",
       "    </tr>\n",
       "    <tr>\n",
       "      <th>13</th>\n",
       "      <td>2023-12-18</td>\n",
       "      <td>Beta Boulders Ams Amsterdam</td>\n",
       "      <td>Expense</td>\n",
       "      <td>6.94</td>\n",
       "      <td>NaN</td>\n",
       "      <td>2023</td>\n",
       "      <td>12</td>\n",
       "      <td>Dec</td>\n",
       "    </tr>\n",
       "    <tr>\n",
       "      <th>14</th>\n",
       "      <td>2022-11-26</td>\n",
       "      <td>Salary</td>\n",
       "      <td>Income</td>\n",
       "      <td>14.36</td>\n",
       "      <td>NaN</td>\n",
       "      <td>2022</td>\n",
       "      <td>11</td>\n",
       "      <td>Nov</td>\n",
       "    </tr>\n",
       "    <tr>\n",
       "      <th>15</th>\n",
       "      <td>2022-11-26</td>\n",
       "      <td>Bouldermuur Bv Amsterdam</td>\n",
       "      <td>Expense</td>\n",
       "      <td>19.27</td>\n",
       "      <td>NaN</td>\n",
       "      <td>2022</td>\n",
       "      <td>11</td>\n",
       "      <td>Nov</td>\n",
       "    </tr>\n",
       "    <tr>\n",
       "      <th>16</th>\n",
       "      <td>2022-11-26</td>\n",
       "      <td>Birtat Restaurant Amsterdam</td>\n",
       "      <td>Expense</td>\n",
       "      <td>24.71</td>\n",
       "      <td>NaN</td>\n",
       "      <td>2022</td>\n",
       "      <td>11</td>\n",
       "      <td>Nov</td>\n",
       "    </tr>\n",
       "    <tr>\n",
       "      <th>17</th>\n",
       "      <td>2022-11-25</td>\n",
       "      <td>Tesco Breda</td>\n",
       "      <td>Expense</td>\n",
       "      <td>17.35</td>\n",
       "      <td>NaN</td>\n",
       "      <td>2022</td>\n",
       "      <td>11</td>\n",
       "      <td>Nov</td>\n",
       "    </tr>\n",
       "    <tr>\n",
       "      <th>18</th>\n",
       "      <td>2022-11-24</td>\n",
       "      <td>Freelancing</td>\n",
       "      <td>Income</td>\n",
       "      <td>2409.55</td>\n",
       "      <td>NaN</td>\n",
       "      <td>2022</td>\n",
       "      <td>11</td>\n",
       "      <td>Nov</td>\n",
       "    </tr>\n",
       "    <tr>\n",
       "      <th>19</th>\n",
       "      <td>2022-11-19</td>\n",
       "      <td>Tikkie</td>\n",
       "      <td>Expense</td>\n",
       "      <td>20.76</td>\n",
       "      <td>NaN</td>\n",
       "      <td>2022</td>\n",
       "      <td>11</td>\n",
       "      <td>Nov</td>\n",
       "    </tr>\n",
       "    <tr>\n",
       "      <th>20</th>\n",
       "      <td>2022-10-25</td>\n",
       "      <td>Blogging</td>\n",
       "      <td>Income</td>\n",
       "      <td>4044.27</td>\n",
       "      <td>NaN</td>\n",
       "      <td>2022</td>\n",
       "      <td>10</td>\n",
       "      <td>Oct</td>\n",
       "    </tr>\n",
       "    <tr>\n",
       "      <th>21</th>\n",
       "      <td>2022-10-24</td>\n",
       "      <td>Taxi Utrecht</td>\n",
       "      <td>Expense</td>\n",
       "      <td>18.90</td>\n",
       "      <td>NaN</td>\n",
       "      <td>2022</td>\n",
       "      <td>10</td>\n",
       "      <td>Oct</td>\n",
       "    </tr>\n",
       "    <tr>\n",
       "      <th>22</th>\n",
       "      <td>2022-10-23</td>\n",
       "      <td>Tesco Breda</td>\n",
       "      <td>Expense</td>\n",
       "      <td>27.54</td>\n",
       "      <td>NaN</td>\n",
       "      <td>2022</td>\n",
       "      <td>10</td>\n",
       "      <td>Oct</td>\n",
       "    </tr>\n",
       "    <tr>\n",
       "      <th>23</th>\n",
       "      <td>2022-10-22</td>\n",
       "      <td>Apple Services</td>\n",
       "      <td>Expense</td>\n",
       "      <td>41.25</td>\n",
       "      <td>NaN</td>\n",
       "      <td>2022</td>\n",
       "      <td>10</td>\n",
       "      <td>Oct</td>\n",
       "    </tr>\n",
       "    <tr>\n",
       "      <th>24</th>\n",
       "      <td>2022-10-21</td>\n",
       "      <td>Tesco Breda</td>\n",
       "      <td>Expense</td>\n",
       "      <td>22.80</td>\n",
       "      <td>NaN</td>\n",
       "      <td>2022</td>\n",
       "      <td>10</td>\n",
       "      <td>Oct</td>\n",
       "    </tr>\n",
       "    <tr>\n",
       "      <th>25</th>\n",
       "      <td>2022-01-16</td>\n",
       "      <td>Amazon Lux</td>\n",
       "      <td>Expense</td>\n",
       "      <td>24.11</td>\n",
       "      <td>NaN</td>\n",
       "      <td>2022</td>\n",
       "      <td>1</td>\n",
       "      <td>Jan</td>\n",
       "    </tr>\n",
       "    <tr>\n",
       "      <th>26</th>\n",
       "      <td>2022-01-15</td>\n",
       "      <td>Classpass* Monthly</td>\n",
       "      <td>Expense</td>\n",
       "      <td>30.08</td>\n",
       "      <td>NaN</td>\n",
       "      <td>2022</td>\n",
       "      <td>1</td>\n",
       "      <td>Jan</td>\n",
       "    </tr>\n",
       "    <tr>\n",
       "      <th>27</th>\n",
       "      <td>2022-01-14</td>\n",
       "      <td>Audible Uk AdblCo/Pymt Gbr</td>\n",
       "      <td>Expense</td>\n",
       "      <td>11.00</td>\n",
       "      <td>NaN</td>\n",
       "      <td>2022</td>\n",
       "      <td>1</td>\n",
       "      <td>Jan</td>\n",
       "    </tr>\n",
       "  </tbody>\n",
       "</table>\n",
       "</div>"
      ],
      "text/plain": [
       "          Date           Name / Description Expense/Income  Amount (EUR)  \\\n",
       "0   2023-12-30              Belastingdienst        Expense          9.96   \n",
       "1   2023-12-30                  Tesco Breda        Expense         17.53   \n",
       "2   2023-12-30      Monthly Appartment Rent        Expense        451.00   \n",
       "3   2023-12-30     Vishandel Sier Amsterdam        Expense         12.46   \n",
       "4   2023-12-29            Selling Paintings         Income         13.63   \n",
       "5   2023-12-29          Spotify Ab By Adyen        Expense         12.19   \n",
       "6   2023-12-23         Tk Maxx Amsterdam Da        Expense         27.08   \n",
       "7   2023-12-22                   Consulting         Income        541.57   \n",
       "8   2023-12-22                    Aidsfonds        Expense         10.70   \n",
       "9   2023-12-20                   Consulting         Income       2641.93   \n",
       "10  2023-12-19      Tls Bv Inz Ov-Chipkaart        Expense         18.90   \n",
       "11  2023-12-18               Etos Amsterdam        Expense         17.67   \n",
       "12  2023-12-18                  Tesco Breda        Expense          8.81   \n",
       "13  2023-12-18  Beta Boulders Ams Amsterdam        Expense          6.94   \n",
       "14  2022-11-26                       Salary         Income         14.36   \n",
       "15  2022-11-26     Bouldermuur Bv Amsterdam        Expense         19.27   \n",
       "16  2022-11-26  Birtat Restaurant Amsterdam        Expense         24.71   \n",
       "17  2022-11-25                  Tesco Breda        Expense         17.35   \n",
       "18  2022-11-24                  Freelancing         Income       2409.55   \n",
       "19  2022-11-19                       Tikkie        Expense         20.76   \n",
       "20  2022-10-25                     Blogging         Income       4044.27   \n",
       "21  2022-10-24                 Taxi Utrecht        Expense         18.90   \n",
       "22  2022-10-23                  Tesco Breda        Expense         27.54   \n",
       "23  2022-10-22               Apple Services        Expense         41.25   \n",
       "24  2022-10-21                  Tesco Breda        Expense         22.80   \n",
       "25  2022-01-16                   Amazon Lux        Expense         24.11   \n",
       "26  2022-01-15           Classpass* Monthly        Expense         30.08   \n",
       "27  2022-01-14   Audible Uk AdblCo/Pymt Gbr        Expense         11.00   \n",
       "\n",
       "    Category  Year  Month Month Name  \n",
       "0        NaN  2023     12        Dec  \n",
       "1        NaN  2023     12        Dec  \n",
       "2        NaN  2023     12        Dec  \n",
       "3        NaN  2023     12        Dec  \n",
       "4        NaN  2023     12        Dec  \n",
       "5        NaN  2023     12        Dec  \n",
       "6        NaN  2023     12        Dec  \n",
       "7        NaN  2023     12        Dec  \n",
       "8        NaN  2023     12        Dec  \n",
       "9        NaN  2023     12        Dec  \n",
       "10       NaN  2023     12        Dec  \n",
       "11       NaN  2023     12        Dec  \n",
       "12       NaN  2023     12        Dec  \n",
       "13       NaN  2023     12        Dec  \n",
       "14       NaN  2022     11        Nov  \n",
       "15       NaN  2022     11        Nov  \n",
       "16       NaN  2022     11        Nov  \n",
       "17       NaN  2022     11        Nov  \n",
       "18       NaN  2022     11        Nov  \n",
       "19       NaN  2022     11        Nov  \n",
       "20       NaN  2022     10        Oct  \n",
       "21       NaN  2022     10        Oct  \n",
       "22       NaN  2022     10        Oct  \n",
       "23       NaN  2022     10        Oct  \n",
       "24       NaN  2022     10        Oct  \n",
       "25       NaN  2022      1        Jan  \n",
       "26       NaN  2022      1        Jan  \n",
       "27       NaN  2022      1        Jan  "
      ]
     },
     "execution_count": 20,
     "metadata": {},
     "output_type": "execute_result"
    }
   ],
   "source": [
    "# Read transactions_2022_2023_categorized.csv\n",
    "df = pd.read_csv('transactions_2022_2023_categorized.csv')\n",
    "# Add year and month columns\n",
    "df['Year'] = pd.to_datetime(df['Date']).dt.year\n",
    "df['Month'] = pd.to_datetime(df['Date']).dt.month\n",
    "df['Month Name'] = pd.to_datetime(df['Date']).dt.strftime(\"%b\")\n",
    "# Remove \"Transaction\" and \"Transaction vs category\" columns\n",
    "df = df.drop(columns=['Transaction', 'Transaction vs category'])\n",
    "df"
   ]
  },
  {
   "cell_type": "code",
   "execution_count": 21,
   "metadata": {},
   "outputs": [],
   "source": [
    "# For Income rows, assign Name / Description to Category\n",
    "df['Category'] = np.where(df['Expense/Income'] == 'Income', df['Name / Description'], df['Category'])"
   ]
  },
  {
   "cell_type": "code",
   "execution_count": 22,
   "metadata": {},
   "outputs": [],
   "source": [
    "def make_pie_chart(df, year, label):\n",
    "    # Filter the dataset for expense transactions\n",
    "    sub_df = df[(df['Expense/Income'] == label) & (df['Year'] == year)]\n",
    "\n",
    "    color_scale = px.colors.qualitative.Set2\n",
    "    \n",
    "    pie_fig = px.pie(sub_df, values='Amount (EUR)', names='Category', color_discrete_sequence = color_scale)\n",
    "    pie_fig.update_traces(textposition='inside', direction ='clockwise', hole=0.3, textinfo=\"label+percent\")\n",
    "\n",
    "    total_expense = df[(df['Expense/Income'] == 'Expense') & (df['Year'] == year)]['Amount (EUR)'].sum() \n",
    "    total_income = df[(df['Expense/Income'] == 'Income') & (df['Year'] == year)]['Amount (EUR)'].sum()\n",
    "    \n",
    "    if label == 'Expense':\n",
    "        total_text = \"€ \" + str(round(total_expense))\n",
    "\n",
    "        # Saving rate:\n",
    "        saving_rate = round((total_income - total_expense)/total_income*100)\n",
    "        saving_rate_text = \": Saving rate \" + str(saving_rate) + \"%\"\n",
    "    else:\n",
    "        saving_rate_text = \"\"\n",
    "        total_text = \"€ \" + str(round(total_income))\n",
    "\n",
    "    pie_fig.update_layout(uniformtext_minsize=10, \n",
    "                        uniformtext_mode='hide',\n",
    "                        title=dict(text=label+\" Breakdown \" + str(year) + saving_rate_text),\n",
    "                        # Add annotations in the center of the donut.\n",
    "                        annotations=[\n",
    "                            dict(\n",
    "                                text=total_text, \n",
    "                                # Square unit grid starting at bottom left of page\n",
    "                                x=0.5, y=0.5, font_size=12,\n",
    "                                # Hide the arrow that points to the [x,y] coordinate\n",
    "                                showarrow=False\n",
    "                            )\n",
    "                        ]\n",
    "                    )\n",
    "    return pie_fig"
   ]
  },
  {
   "cell_type": "code",
   "execution_count": 23,
   "metadata": {},
   "outputs": [
    {
     "data": {
      "application/vnd.plotly.v1+json": {
       "config": {
        "plotlyServerURL": "https://plot.ly"
       },
       "data": [
        {
         "direction": "clockwise",
         "domain": {
          "x": [
           0,
           1
          ],
          "y": [
           0,
           1
          ]
         },
         "hole": 0.3,
         "hovertemplate": "Category=%{label}<br>Amount (EUR)=%{value}<extra></extra>",
         "labels": [
          "Salary",
          "Freelancing",
          "Blogging"
         ],
         "legendgroup": "",
         "name": "",
         "showlegend": true,
         "textinfo": "label+percent",
         "textposition": "inside",
         "type": "pie",
         "values": [
          14.36,
          2409.55,
          4044.27
         ]
        }
       ],
       "layout": {
        "annotations": [
         {
          "font": {
           "size": 12
          },
          "showarrow": false,
          "text": "€ 6468",
          "x": 0.5,
          "y": 0.5
         }
        ],
        "legend": {
         "tracegroupgap": 0
        },
        "margin": {
         "t": 60
        },
        "piecolorway": [
         "rgb(102,194,165)",
         "rgb(252,141,98)",
         "rgb(141,160,203)",
         "rgb(231,138,195)",
         "rgb(166,216,84)",
         "rgb(255,217,47)",
         "rgb(229,196,148)",
         "rgb(179,179,179)"
        ],
        "template": {
         "data": {
          "bar": [
           {
            "error_x": {
             "color": "#2a3f5f"
            },
            "error_y": {
             "color": "#2a3f5f"
            },
            "marker": {
             "line": {
              "color": "#E5ECF6",
              "width": 0.5
             },
             "pattern": {
              "fillmode": "overlay",
              "size": 10,
              "solidity": 0.2
             }
            },
            "type": "bar"
           }
          ],
          "barpolar": [
           {
            "marker": {
             "line": {
              "color": "#E5ECF6",
              "width": 0.5
             },
             "pattern": {
              "fillmode": "overlay",
              "size": 10,
              "solidity": 0.2
             }
            },
            "type": "barpolar"
           }
          ],
          "carpet": [
           {
            "aaxis": {
             "endlinecolor": "#2a3f5f",
             "gridcolor": "white",
             "linecolor": "white",
             "minorgridcolor": "white",
             "startlinecolor": "#2a3f5f"
            },
            "baxis": {
             "endlinecolor": "#2a3f5f",
             "gridcolor": "white",
             "linecolor": "white",
             "minorgridcolor": "white",
             "startlinecolor": "#2a3f5f"
            },
            "type": "carpet"
           }
          ],
          "choropleth": [
           {
            "colorbar": {
             "outlinewidth": 0,
             "ticks": ""
            },
            "type": "choropleth"
           }
          ],
          "contour": [
           {
            "colorbar": {
             "outlinewidth": 0,
             "ticks": ""
            },
            "colorscale": [
             [
              0,
              "#0d0887"
             ],
             [
              0.1111111111111111,
              "#46039f"
             ],
             [
              0.2222222222222222,
              "#7201a8"
             ],
             [
              0.3333333333333333,
              "#9c179e"
             ],
             [
              0.4444444444444444,
              "#bd3786"
             ],
             [
              0.5555555555555556,
              "#d8576b"
             ],
             [
              0.6666666666666666,
              "#ed7953"
             ],
             [
              0.7777777777777778,
              "#fb9f3a"
             ],
             [
              0.8888888888888888,
              "#fdca26"
             ],
             [
              1,
              "#f0f921"
             ]
            ],
            "type": "contour"
           }
          ],
          "contourcarpet": [
           {
            "colorbar": {
             "outlinewidth": 0,
             "ticks": ""
            },
            "type": "contourcarpet"
           }
          ],
          "heatmap": [
           {
            "colorbar": {
             "outlinewidth": 0,
             "ticks": ""
            },
            "colorscale": [
             [
              0,
              "#0d0887"
             ],
             [
              0.1111111111111111,
              "#46039f"
             ],
             [
              0.2222222222222222,
              "#7201a8"
             ],
             [
              0.3333333333333333,
              "#9c179e"
             ],
             [
              0.4444444444444444,
              "#bd3786"
             ],
             [
              0.5555555555555556,
              "#d8576b"
             ],
             [
              0.6666666666666666,
              "#ed7953"
             ],
             [
              0.7777777777777778,
              "#fb9f3a"
             ],
             [
              0.8888888888888888,
              "#fdca26"
             ],
             [
              1,
              "#f0f921"
             ]
            ],
            "type": "heatmap"
           }
          ],
          "heatmapgl": [
           {
            "colorbar": {
             "outlinewidth": 0,
             "ticks": ""
            },
            "colorscale": [
             [
              0,
              "#0d0887"
             ],
             [
              0.1111111111111111,
              "#46039f"
             ],
             [
              0.2222222222222222,
              "#7201a8"
             ],
             [
              0.3333333333333333,
              "#9c179e"
             ],
             [
              0.4444444444444444,
              "#bd3786"
             ],
             [
              0.5555555555555556,
              "#d8576b"
             ],
             [
              0.6666666666666666,
              "#ed7953"
             ],
             [
              0.7777777777777778,
              "#fb9f3a"
             ],
             [
              0.8888888888888888,
              "#fdca26"
             ],
             [
              1,
              "#f0f921"
             ]
            ],
            "type": "heatmapgl"
           }
          ],
          "histogram": [
           {
            "marker": {
             "pattern": {
              "fillmode": "overlay",
              "size": 10,
              "solidity": 0.2
             }
            },
            "type": "histogram"
           }
          ],
          "histogram2d": [
           {
            "colorbar": {
             "outlinewidth": 0,
             "ticks": ""
            },
            "colorscale": [
             [
              0,
              "#0d0887"
             ],
             [
              0.1111111111111111,
              "#46039f"
             ],
             [
              0.2222222222222222,
              "#7201a8"
             ],
             [
              0.3333333333333333,
              "#9c179e"
             ],
             [
              0.4444444444444444,
              "#bd3786"
             ],
             [
              0.5555555555555556,
              "#d8576b"
             ],
             [
              0.6666666666666666,
              "#ed7953"
             ],
             [
              0.7777777777777778,
              "#fb9f3a"
             ],
             [
              0.8888888888888888,
              "#fdca26"
             ],
             [
              1,
              "#f0f921"
             ]
            ],
            "type": "histogram2d"
           }
          ],
          "histogram2dcontour": [
           {
            "colorbar": {
             "outlinewidth": 0,
             "ticks": ""
            },
            "colorscale": [
             [
              0,
              "#0d0887"
             ],
             [
              0.1111111111111111,
              "#46039f"
             ],
             [
              0.2222222222222222,
              "#7201a8"
             ],
             [
              0.3333333333333333,
              "#9c179e"
             ],
             [
              0.4444444444444444,
              "#bd3786"
             ],
             [
              0.5555555555555556,
              "#d8576b"
             ],
             [
              0.6666666666666666,
              "#ed7953"
             ],
             [
              0.7777777777777778,
              "#fb9f3a"
             ],
             [
              0.8888888888888888,
              "#fdca26"
             ],
             [
              1,
              "#f0f921"
             ]
            ],
            "type": "histogram2dcontour"
           }
          ],
          "mesh3d": [
           {
            "colorbar": {
             "outlinewidth": 0,
             "ticks": ""
            },
            "type": "mesh3d"
           }
          ],
          "parcoords": [
           {
            "line": {
             "colorbar": {
              "outlinewidth": 0,
              "ticks": ""
             }
            },
            "type": "parcoords"
           }
          ],
          "pie": [
           {
            "automargin": true,
            "type": "pie"
           }
          ],
          "scatter": [
           {
            "fillpattern": {
             "fillmode": "overlay",
             "size": 10,
             "solidity": 0.2
            },
            "type": "scatter"
           }
          ],
          "scatter3d": [
           {
            "line": {
             "colorbar": {
              "outlinewidth": 0,
              "ticks": ""
             }
            },
            "marker": {
             "colorbar": {
              "outlinewidth": 0,
              "ticks": ""
             }
            },
            "type": "scatter3d"
           }
          ],
          "scattercarpet": [
           {
            "marker": {
             "colorbar": {
              "outlinewidth": 0,
              "ticks": ""
             }
            },
            "type": "scattercarpet"
           }
          ],
          "scattergeo": [
           {
            "marker": {
             "colorbar": {
              "outlinewidth": 0,
              "ticks": ""
             }
            },
            "type": "scattergeo"
           }
          ],
          "scattergl": [
           {
            "marker": {
             "colorbar": {
              "outlinewidth": 0,
              "ticks": ""
             }
            },
            "type": "scattergl"
           }
          ],
          "scattermapbox": [
           {
            "marker": {
             "colorbar": {
              "outlinewidth": 0,
              "ticks": ""
             }
            },
            "type": "scattermapbox"
           }
          ],
          "scatterpolar": [
           {
            "marker": {
             "colorbar": {
              "outlinewidth": 0,
              "ticks": ""
             }
            },
            "type": "scatterpolar"
           }
          ],
          "scatterpolargl": [
           {
            "marker": {
             "colorbar": {
              "outlinewidth": 0,
              "ticks": ""
             }
            },
            "type": "scatterpolargl"
           }
          ],
          "scatterternary": [
           {
            "marker": {
             "colorbar": {
              "outlinewidth": 0,
              "ticks": ""
             }
            },
            "type": "scatterternary"
           }
          ],
          "surface": [
           {
            "colorbar": {
             "outlinewidth": 0,
             "ticks": ""
            },
            "colorscale": [
             [
              0,
              "#0d0887"
             ],
             [
              0.1111111111111111,
              "#46039f"
             ],
             [
              0.2222222222222222,
              "#7201a8"
             ],
             [
              0.3333333333333333,
              "#9c179e"
             ],
             [
              0.4444444444444444,
              "#bd3786"
             ],
             [
              0.5555555555555556,
              "#d8576b"
             ],
             [
              0.6666666666666666,
              "#ed7953"
             ],
             [
              0.7777777777777778,
              "#fb9f3a"
             ],
             [
              0.8888888888888888,
              "#fdca26"
             ],
             [
              1,
              "#f0f921"
             ]
            ],
            "type": "surface"
           }
          ],
          "table": [
           {
            "cells": {
             "fill": {
              "color": "#EBF0F8"
             },
             "line": {
              "color": "white"
             }
            },
            "header": {
             "fill": {
              "color": "#C8D4E3"
             },
             "line": {
              "color": "white"
             }
            },
            "type": "table"
           }
          ]
         },
         "layout": {
          "annotationdefaults": {
           "arrowcolor": "#2a3f5f",
           "arrowhead": 0,
           "arrowwidth": 1
          },
          "autotypenumbers": "strict",
          "coloraxis": {
           "colorbar": {
            "outlinewidth": 0,
            "ticks": ""
           }
          },
          "colorscale": {
           "diverging": [
            [
             0,
             "#8e0152"
            ],
            [
             0.1,
             "#c51b7d"
            ],
            [
             0.2,
             "#de77ae"
            ],
            [
             0.3,
             "#f1b6da"
            ],
            [
             0.4,
             "#fde0ef"
            ],
            [
             0.5,
             "#f7f7f7"
            ],
            [
             0.6,
             "#e6f5d0"
            ],
            [
             0.7,
             "#b8e186"
            ],
            [
             0.8,
             "#7fbc41"
            ],
            [
             0.9,
             "#4d9221"
            ],
            [
             1,
             "#276419"
            ]
           ],
           "sequential": [
            [
             0,
             "#0d0887"
            ],
            [
             0.1111111111111111,
             "#46039f"
            ],
            [
             0.2222222222222222,
             "#7201a8"
            ],
            [
             0.3333333333333333,
             "#9c179e"
            ],
            [
             0.4444444444444444,
             "#bd3786"
            ],
            [
             0.5555555555555556,
             "#d8576b"
            ],
            [
             0.6666666666666666,
             "#ed7953"
            ],
            [
             0.7777777777777778,
             "#fb9f3a"
            ],
            [
             0.8888888888888888,
             "#fdca26"
            ],
            [
             1,
             "#f0f921"
            ]
           ],
           "sequentialminus": [
            [
             0,
             "#0d0887"
            ],
            [
             0.1111111111111111,
             "#46039f"
            ],
            [
             0.2222222222222222,
             "#7201a8"
            ],
            [
             0.3333333333333333,
             "#9c179e"
            ],
            [
             0.4444444444444444,
             "#bd3786"
            ],
            [
             0.5555555555555556,
             "#d8576b"
            ],
            [
             0.6666666666666666,
             "#ed7953"
            ],
            [
             0.7777777777777778,
             "#fb9f3a"
            ],
            [
             0.8888888888888888,
             "#fdca26"
            ],
            [
             1,
             "#f0f921"
            ]
           ]
          },
          "colorway": [
           "#636efa",
           "#EF553B",
           "#00cc96",
           "#ab63fa",
           "#FFA15A",
           "#19d3f3",
           "#FF6692",
           "#B6E880",
           "#FF97FF",
           "#FECB52"
          ],
          "font": {
           "color": "#2a3f5f"
          },
          "geo": {
           "bgcolor": "white",
           "lakecolor": "white",
           "landcolor": "#E5ECF6",
           "showlakes": true,
           "showland": true,
           "subunitcolor": "white"
          },
          "hoverlabel": {
           "align": "left"
          },
          "hovermode": "closest",
          "mapbox": {
           "style": "light"
          },
          "paper_bgcolor": "white",
          "plot_bgcolor": "#E5ECF6",
          "polar": {
           "angularaxis": {
            "gridcolor": "white",
            "linecolor": "white",
            "ticks": ""
           },
           "bgcolor": "#E5ECF6",
           "radialaxis": {
            "gridcolor": "white",
            "linecolor": "white",
            "ticks": ""
           }
          },
          "scene": {
           "xaxis": {
            "backgroundcolor": "#E5ECF6",
            "gridcolor": "white",
            "gridwidth": 2,
            "linecolor": "white",
            "showbackground": true,
            "ticks": "",
            "zerolinecolor": "white"
           },
           "yaxis": {
            "backgroundcolor": "#E5ECF6",
            "gridcolor": "white",
            "gridwidth": 2,
            "linecolor": "white",
            "showbackground": true,
            "ticks": "",
            "zerolinecolor": "white"
           },
           "zaxis": {
            "backgroundcolor": "#E5ECF6",
            "gridcolor": "white",
            "gridwidth": 2,
            "linecolor": "white",
            "showbackground": true,
            "ticks": "",
            "zerolinecolor": "white"
           }
          },
          "shapedefaults": {
           "line": {
            "color": "#2a3f5f"
           }
          },
          "ternary": {
           "aaxis": {
            "gridcolor": "white",
            "linecolor": "white",
            "ticks": ""
           },
           "baxis": {
            "gridcolor": "white",
            "linecolor": "white",
            "ticks": ""
           },
           "bgcolor": "#E5ECF6",
           "caxis": {
            "gridcolor": "white",
            "linecolor": "white",
            "ticks": ""
           }
          },
          "title": {
           "x": 0.05
          },
          "xaxis": {
           "automargin": true,
           "gridcolor": "white",
           "linecolor": "white",
           "ticks": "",
           "title": {
            "standoff": 15
           },
           "zerolinecolor": "white",
           "zerolinewidth": 2
          },
          "yaxis": {
           "automargin": true,
           "gridcolor": "white",
           "linecolor": "white",
           "ticks": "",
           "title": {
            "standoff": 15
           },
           "zerolinecolor": "white",
           "zerolinewidth": 2
          }
         }
        },
        "title": {
         "text": "Income Breakdown 2022"
        },
        "uniformtext": {
         "minsize": 10,
         "mode": "hide"
        }
       }
      }
     },
     "metadata": {},
     "output_type": "display_data"
    }
   ],
   "source": [
    "income_pie_fig_2022 = make_pie_chart(df, 2022, 'Income')\n",
    "income_pie_fig_2022"
   ]
  },
  {
   "cell_type": "code",
   "execution_count": 24,
   "metadata": {},
   "outputs": [],
   "source": [
    "def make_pie_chart(df, year, label):\n",
    "    # Filter the dataset for expense transactions\n",
    "    sub_df = df[(df['Expense/Income'] == label) & (df['Year'] == year)]\n",
    "\n",
    "    color_scale = px.colors.qualitative.Set2\n",
    "    \n",
    "    pie_fig = px.pie(sub_df, values='Amount (EUR)', names='Category', color_discrete_sequence = color_scale)\n",
    "    pie_fig.update_traces(textposition='inside', direction ='clockwise', hole=0.3, textinfo=\"label+percent\")\n",
    "\n",
    "    total_expense = df[(df['Expense/Income'] == 'Expense') & (df['Year'] == year)]['Amount (EUR)'].sum() \n",
    "    total_income = df[(df['Expense/Income'] == 'Income') & (df['Year'] == year)]['Amount (EUR)'].sum()\n",
    "    \n",
    "    if label == 'Expense':\n",
    "        total_text = \"€ \" + str(round(total_expense))\n",
    "\n",
    "        # Saving rate:\n",
    "        saving_rate = round((total_income - total_expense)/total_income*100)\n",
    "        saving_rate_text = \": Saving rate \" + str(saving_rate) + \"%\"\n",
    "    else:\n",
    "        saving_rate_text = \"\"\n",
    "        total_text = \"€ \" + str(round(total_income))\n",
    "\n",
    "    pie_fig.update_layout(uniformtext_minsize=10, \n",
    "                        uniformtext_mode='hide',\n",
    "                        title=dict(text=label+\" Breakdown \" + str(year) + saving_rate_text),\n",
    "                        # Add annotations in the center of the donut.\n",
    "                        annotations=[\n",
    "                            dict(\n",
    "                                text=total_text, \n",
    "                                # Square unit grid starting at bottom left of page\n",
    "                                x=0.5, y=0.5, font_size=12,\n",
    "                                # Hide the arrow that points to the [x,y] coordinate\n",
    "                                showarrow=False\n",
    "                            )\n",
    "                        ]\n",
    "                    )\n",
    "    return pie_fig"
   ]
  },
  {
   "cell_type": "code",
   "execution_count": 25,
   "metadata": {},
   "outputs": [
    {
     "data": {
      "application/vnd.plotly.v1+json": {
       "config": {
        "plotlyServerURL": "https://plot.ly"
       },
       "data": [
        {
         "direction": "clockwise",
         "domain": {
          "x": [
           0,
           1
          ],
          "y": [
           0,
           1
          ]
         },
         "hole": 0.3,
         "hovertemplate": "Category=%{label}<br>Amount (EUR)=%{value}<extra></extra>",
         "labels": [
          "Salary",
          "Freelancing",
          "Blogging"
         ],
         "legendgroup": "",
         "name": "",
         "showlegend": true,
         "textinfo": "label+percent",
         "textposition": "inside",
         "type": "pie",
         "values": [
          14.36,
          2409.55,
          4044.27
         ]
        }
       ],
       "layout": {
        "annotations": [
         {
          "font": {
           "size": 12
          },
          "showarrow": false,
          "text": "€ 6468",
          "x": 0.5,
          "y": 0.5
         }
        ],
        "legend": {
         "tracegroupgap": 0
        },
        "margin": {
         "t": 60
        },
        "piecolorway": [
         "rgb(102,194,165)",
         "rgb(252,141,98)",
         "rgb(141,160,203)",
         "rgb(231,138,195)",
         "rgb(166,216,84)",
         "rgb(255,217,47)",
         "rgb(229,196,148)",
         "rgb(179,179,179)"
        ],
        "template": {
         "data": {
          "bar": [
           {
            "error_x": {
             "color": "#2a3f5f"
            },
            "error_y": {
             "color": "#2a3f5f"
            },
            "marker": {
             "line": {
              "color": "#E5ECF6",
              "width": 0.5
             },
             "pattern": {
              "fillmode": "overlay",
              "size": 10,
              "solidity": 0.2
             }
            },
            "type": "bar"
           }
          ],
          "barpolar": [
           {
            "marker": {
             "line": {
              "color": "#E5ECF6",
              "width": 0.5
             },
             "pattern": {
              "fillmode": "overlay",
              "size": 10,
              "solidity": 0.2
             }
            },
            "type": "barpolar"
           }
          ],
          "carpet": [
           {
            "aaxis": {
             "endlinecolor": "#2a3f5f",
             "gridcolor": "white",
             "linecolor": "white",
             "minorgridcolor": "white",
             "startlinecolor": "#2a3f5f"
            },
            "baxis": {
             "endlinecolor": "#2a3f5f",
             "gridcolor": "white",
             "linecolor": "white",
             "minorgridcolor": "white",
             "startlinecolor": "#2a3f5f"
            },
            "type": "carpet"
           }
          ],
          "choropleth": [
           {
            "colorbar": {
             "outlinewidth": 0,
             "ticks": ""
            },
            "type": "choropleth"
           }
          ],
          "contour": [
           {
            "colorbar": {
             "outlinewidth": 0,
             "ticks": ""
            },
            "colorscale": [
             [
              0,
              "#0d0887"
             ],
             [
              0.1111111111111111,
              "#46039f"
             ],
             [
              0.2222222222222222,
              "#7201a8"
             ],
             [
              0.3333333333333333,
              "#9c179e"
             ],
             [
              0.4444444444444444,
              "#bd3786"
             ],
             [
              0.5555555555555556,
              "#d8576b"
             ],
             [
              0.6666666666666666,
              "#ed7953"
             ],
             [
              0.7777777777777778,
              "#fb9f3a"
             ],
             [
              0.8888888888888888,
              "#fdca26"
             ],
             [
              1,
              "#f0f921"
             ]
            ],
            "type": "contour"
           }
          ],
          "contourcarpet": [
           {
            "colorbar": {
             "outlinewidth": 0,
             "ticks": ""
            },
            "type": "contourcarpet"
           }
          ],
          "heatmap": [
           {
            "colorbar": {
             "outlinewidth": 0,
             "ticks": ""
            },
            "colorscale": [
             [
              0,
              "#0d0887"
             ],
             [
              0.1111111111111111,
              "#46039f"
             ],
             [
              0.2222222222222222,
              "#7201a8"
             ],
             [
              0.3333333333333333,
              "#9c179e"
             ],
             [
              0.4444444444444444,
              "#bd3786"
             ],
             [
              0.5555555555555556,
              "#d8576b"
             ],
             [
              0.6666666666666666,
              "#ed7953"
             ],
             [
              0.7777777777777778,
              "#fb9f3a"
             ],
             [
              0.8888888888888888,
              "#fdca26"
             ],
             [
              1,
              "#f0f921"
             ]
            ],
            "type": "heatmap"
           }
          ],
          "heatmapgl": [
           {
            "colorbar": {
             "outlinewidth": 0,
             "ticks": ""
            },
            "colorscale": [
             [
              0,
              "#0d0887"
             ],
             [
              0.1111111111111111,
              "#46039f"
             ],
             [
              0.2222222222222222,
              "#7201a8"
             ],
             [
              0.3333333333333333,
              "#9c179e"
             ],
             [
              0.4444444444444444,
              "#bd3786"
             ],
             [
              0.5555555555555556,
              "#d8576b"
             ],
             [
              0.6666666666666666,
              "#ed7953"
             ],
             [
              0.7777777777777778,
              "#fb9f3a"
             ],
             [
              0.8888888888888888,
              "#fdca26"
             ],
             [
              1,
              "#f0f921"
             ]
            ],
            "type": "heatmapgl"
           }
          ],
          "histogram": [
           {
            "marker": {
             "pattern": {
              "fillmode": "overlay",
              "size": 10,
              "solidity": 0.2
             }
            },
            "type": "histogram"
           }
          ],
          "histogram2d": [
           {
            "colorbar": {
             "outlinewidth": 0,
             "ticks": ""
            },
            "colorscale": [
             [
              0,
              "#0d0887"
             ],
             [
              0.1111111111111111,
              "#46039f"
             ],
             [
              0.2222222222222222,
              "#7201a8"
             ],
             [
              0.3333333333333333,
              "#9c179e"
             ],
             [
              0.4444444444444444,
              "#bd3786"
             ],
             [
              0.5555555555555556,
              "#d8576b"
             ],
             [
              0.6666666666666666,
              "#ed7953"
             ],
             [
              0.7777777777777778,
              "#fb9f3a"
             ],
             [
              0.8888888888888888,
              "#fdca26"
             ],
             [
              1,
              "#f0f921"
             ]
            ],
            "type": "histogram2d"
           }
          ],
          "histogram2dcontour": [
           {
            "colorbar": {
             "outlinewidth": 0,
             "ticks": ""
            },
            "colorscale": [
             [
              0,
              "#0d0887"
             ],
             [
              0.1111111111111111,
              "#46039f"
             ],
             [
              0.2222222222222222,
              "#7201a8"
             ],
             [
              0.3333333333333333,
              "#9c179e"
             ],
             [
              0.4444444444444444,
              "#bd3786"
             ],
             [
              0.5555555555555556,
              "#d8576b"
             ],
             [
              0.6666666666666666,
              "#ed7953"
             ],
             [
              0.7777777777777778,
              "#fb9f3a"
             ],
             [
              0.8888888888888888,
              "#fdca26"
             ],
             [
              1,
              "#f0f921"
             ]
            ],
            "type": "histogram2dcontour"
           }
          ],
          "mesh3d": [
           {
            "colorbar": {
             "outlinewidth": 0,
             "ticks": ""
            },
            "type": "mesh3d"
           }
          ],
          "parcoords": [
           {
            "line": {
             "colorbar": {
              "outlinewidth": 0,
              "ticks": ""
             }
            },
            "type": "parcoords"
           }
          ],
          "pie": [
           {
            "automargin": true,
            "type": "pie"
           }
          ],
          "scatter": [
           {
            "fillpattern": {
             "fillmode": "overlay",
             "size": 10,
             "solidity": 0.2
            },
            "type": "scatter"
           }
          ],
          "scatter3d": [
           {
            "line": {
             "colorbar": {
              "outlinewidth": 0,
              "ticks": ""
             }
            },
            "marker": {
             "colorbar": {
              "outlinewidth": 0,
              "ticks": ""
             }
            },
            "type": "scatter3d"
           }
          ],
          "scattercarpet": [
           {
            "marker": {
             "colorbar": {
              "outlinewidth": 0,
              "ticks": ""
             }
            },
            "type": "scattercarpet"
           }
          ],
          "scattergeo": [
           {
            "marker": {
             "colorbar": {
              "outlinewidth": 0,
              "ticks": ""
             }
            },
            "type": "scattergeo"
           }
          ],
          "scattergl": [
           {
            "marker": {
             "colorbar": {
              "outlinewidth": 0,
              "ticks": ""
             }
            },
            "type": "scattergl"
           }
          ],
          "scattermapbox": [
           {
            "marker": {
             "colorbar": {
              "outlinewidth": 0,
              "ticks": ""
             }
            },
            "type": "scattermapbox"
           }
          ],
          "scatterpolar": [
           {
            "marker": {
             "colorbar": {
              "outlinewidth": 0,
              "ticks": ""
             }
            },
            "type": "scatterpolar"
           }
          ],
          "scatterpolargl": [
           {
            "marker": {
             "colorbar": {
              "outlinewidth": 0,
              "ticks": ""
             }
            },
            "type": "scatterpolargl"
           }
          ],
          "scatterternary": [
           {
            "marker": {
             "colorbar": {
              "outlinewidth": 0,
              "ticks": ""
             }
            },
            "type": "scatterternary"
           }
          ],
          "surface": [
           {
            "colorbar": {
             "outlinewidth": 0,
             "ticks": ""
            },
            "colorscale": [
             [
              0,
              "#0d0887"
             ],
             [
              0.1111111111111111,
              "#46039f"
             ],
             [
              0.2222222222222222,
              "#7201a8"
             ],
             [
              0.3333333333333333,
              "#9c179e"
             ],
             [
              0.4444444444444444,
              "#bd3786"
             ],
             [
              0.5555555555555556,
              "#d8576b"
             ],
             [
              0.6666666666666666,
              "#ed7953"
             ],
             [
              0.7777777777777778,
              "#fb9f3a"
             ],
             [
              0.8888888888888888,
              "#fdca26"
             ],
             [
              1,
              "#f0f921"
             ]
            ],
            "type": "surface"
           }
          ],
          "table": [
           {
            "cells": {
             "fill": {
              "color": "#EBF0F8"
             },
             "line": {
              "color": "white"
             }
            },
            "header": {
             "fill": {
              "color": "#C8D4E3"
             },
             "line": {
              "color": "white"
             }
            },
            "type": "table"
           }
          ]
         },
         "layout": {
          "annotationdefaults": {
           "arrowcolor": "#2a3f5f",
           "arrowhead": 0,
           "arrowwidth": 1
          },
          "autotypenumbers": "strict",
          "coloraxis": {
           "colorbar": {
            "outlinewidth": 0,
            "ticks": ""
           }
          },
          "colorscale": {
           "diverging": [
            [
             0,
             "#8e0152"
            ],
            [
             0.1,
             "#c51b7d"
            ],
            [
             0.2,
             "#de77ae"
            ],
            [
             0.3,
             "#f1b6da"
            ],
            [
             0.4,
             "#fde0ef"
            ],
            [
             0.5,
             "#f7f7f7"
            ],
            [
             0.6,
             "#e6f5d0"
            ],
            [
             0.7,
             "#b8e186"
            ],
            [
             0.8,
             "#7fbc41"
            ],
            [
             0.9,
             "#4d9221"
            ],
            [
             1,
             "#276419"
            ]
           ],
           "sequential": [
            [
             0,
             "#0d0887"
            ],
            [
             0.1111111111111111,
             "#46039f"
            ],
            [
             0.2222222222222222,
             "#7201a8"
            ],
            [
             0.3333333333333333,
             "#9c179e"
            ],
            [
             0.4444444444444444,
             "#bd3786"
            ],
            [
             0.5555555555555556,
             "#d8576b"
            ],
            [
             0.6666666666666666,
             "#ed7953"
            ],
            [
             0.7777777777777778,
             "#fb9f3a"
            ],
            [
             0.8888888888888888,
             "#fdca26"
            ],
            [
             1,
             "#f0f921"
            ]
           ],
           "sequentialminus": [
            [
             0,
             "#0d0887"
            ],
            [
             0.1111111111111111,
             "#46039f"
            ],
            [
             0.2222222222222222,
             "#7201a8"
            ],
            [
             0.3333333333333333,
             "#9c179e"
            ],
            [
             0.4444444444444444,
             "#bd3786"
            ],
            [
             0.5555555555555556,
             "#d8576b"
            ],
            [
             0.6666666666666666,
             "#ed7953"
            ],
            [
             0.7777777777777778,
             "#fb9f3a"
            ],
            [
             0.8888888888888888,
             "#fdca26"
            ],
            [
             1,
             "#f0f921"
            ]
           ]
          },
          "colorway": [
           "#636efa",
           "#EF553B",
           "#00cc96",
           "#ab63fa",
           "#FFA15A",
           "#19d3f3",
           "#FF6692",
           "#B6E880",
           "#FF97FF",
           "#FECB52"
          ],
          "font": {
           "color": "#2a3f5f"
          },
          "geo": {
           "bgcolor": "white",
           "lakecolor": "white",
           "landcolor": "#E5ECF6",
           "showlakes": true,
           "showland": true,
           "subunitcolor": "white"
          },
          "hoverlabel": {
           "align": "left"
          },
          "hovermode": "closest",
          "mapbox": {
           "style": "light"
          },
          "paper_bgcolor": "white",
          "plot_bgcolor": "#E5ECF6",
          "polar": {
           "angularaxis": {
            "gridcolor": "white",
            "linecolor": "white",
            "ticks": ""
           },
           "bgcolor": "#E5ECF6",
           "radialaxis": {
            "gridcolor": "white",
            "linecolor": "white",
            "ticks": ""
           }
          },
          "scene": {
           "xaxis": {
            "backgroundcolor": "#E5ECF6",
            "gridcolor": "white",
            "gridwidth": 2,
            "linecolor": "white",
            "showbackground": true,
            "ticks": "",
            "zerolinecolor": "white"
           },
           "yaxis": {
            "backgroundcolor": "#E5ECF6",
            "gridcolor": "white",
            "gridwidth": 2,
            "linecolor": "white",
            "showbackground": true,
            "ticks": "",
            "zerolinecolor": "white"
           },
           "zaxis": {
            "backgroundcolor": "#E5ECF6",
            "gridcolor": "white",
            "gridwidth": 2,
            "linecolor": "white",
            "showbackground": true,
            "ticks": "",
            "zerolinecolor": "white"
           }
          },
          "shapedefaults": {
           "line": {
            "color": "#2a3f5f"
           }
          },
          "ternary": {
           "aaxis": {
            "gridcolor": "white",
            "linecolor": "white",
            "ticks": ""
           },
           "baxis": {
            "gridcolor": "white",
            "linecolor": "white",
            "ticks": ""
           },
           "bgcolor": "#E5ECF6",
           "caxis": {
            "gridcolor": "white",
            "linecolor": "white",
            "ticks": ""
           }
          },
          "title": {
           "x": 0.05
          },
          "xaxis": {
           "automargin": true,
           "gridcolor": "white",
           "linecolor": "white",
           "ticks": "",
           "title": {
            "standoff": 15
           },
           "zerolinecolor": "white",
           "zerolinewidth": 2
          },
          "yaxis": {
           "automargin": true,
           "gridcolor": "white",
           "linecolor": "white",
           "ticks": "",
           "title": {
            "standoff": 15
           },
           "zerolinecolor": "white",
           "zerolinewidth": 2
          }
         }
        },
        "title": {
         "text": "Income Breakdown 2022"
        },
        "uniformtext": {
         "minsize": 10,
         "mode": "hide"
        }
       }
      }
     },
     "metadata": {},
     "output_type": "display_data"
    }
   ],
   "source": [
    "income_pie_fig_2022 = make_pie_chart(df, 2022, 'Income')\n",
    "income_pie_fig_2022"
   ]
  },
  {
   "cell_type": "code",
   "execution_count": 26,
   "metadata": {},
   "outputs": [],
   "source": [
    "def make_monthly_bar_chart(df, year, label):\n",
    "    df = df[(df['Expense/Income'] == label) & (df['Year'] == year)]\n",
    "    total_by_month = (df.groupby(['Month', 'Month Name'])['Amount (EUR)'].sum()\n",
    "                        .to_frame()\n",
    "                        .reset_index()\n",
    "                        .sort_values(by='Month')  \n",
    "                        .reset_index(drop=True))\n",
    "    if label == \"Income\":\n",
    "        color_scale = px.colors.sequential.YlGn\n",
    "    if label == \"Expense\":\n",
    "        color_scale = px.colors.sequential.OrRd\n",
    "    \n",
    "    bar_fig = px.bar(total_by_month, x='Month Name', y='Amount (EUR)', text_auto='.2s', title=label+\" per month\", color='Amount (EUR)', color_continuous_scale=color_scale)\n",
    "    # bar_fig.update_traces(marker_color='lightslategrey')\n",
    "    \n",
    "    return bar_fig\n",
    "\n"
   ]
  },
  {
   "cell_type": "code",
   "execution_count": 27,
   "metadata": {},
   "outputs": [
    {
     "data": {
      "application/vnd.plotly.v1+json": {
       "config": {
        "plotlyServerURL": "https://plot.ly"
       },
       "data": [
        {
         "alignmentgroup": "True",
         "hovertemplate": "Month Name=%{x}<br>Amount (EUR)=%{marker.color}<extra></extra>",
         "legendgroup": "",
         "marker": {
          "color": [
           4044.27,
           2423.9100000000003
          ],
          "coloraxis": "coloraxis",
          "pattern": {
           "shape": ""
          }
         },
         "name": "",
         "offsetgroup": "",
         "orientation": "v",
         "showlegend": false,
         "textposition": "auto",
         "texttemplate": "%{y:.2s}",
         "type": "bar",
         "x": [
          "Oct",
          "Nov"
         ],
         "xaxis": "x",
         "y": [
          4044.27,
          2423.9100000000003
         ],
         "yaxis": "y"
        }
       ],
       "layout": {
        "barmode": "relative",
        "coloraxis": {
         "colorbar": {
          "title": {
           "text": "Amount (EUR)"
          }
         },
         "colorscale": [
          [
           0,
           "rgb(255,255,229)"
          ],
          [
           0.125,
           "rgb(247,252,185)"
          ],
          [
           0.25,
           "rgb(217,240,163)"
          ],
          [
           0.375,
           "rgb(173,221,142)"
          ],
          [
           0.5,
           "rgb(120,198,121)"
          ],
          [
           0.625,
           "rgb(65,171,93)"
          ],
          [
           0.75,
           "rgb(35,132,67)"
          ],
          [
           0.875,
           "rgb(0,104,55)"
          ],
          [
           1,
           "rgb(0,69,41)"
          ]
         ]
        },
        "legend": {
         "tracegroupgap": 0
        },
        "template": {
         "data": {
          "bar": [
           {
            "error_x": {
             "color": "#2a3f5f"
            },
            "error_y": {
             "color": "#2a3f5f"
            },
            "marker": {
             "line": {
              "color": "#E5ECF6",
              "width": 0.5
             },
             "pattern": {
              "fillmode": "overlay",
              "size": 10,
              "solidity": 0.2
             }
            },
            "type": "bar"
           }
          ],
          "barpolar": [
           {
            "marker": {
             "line": {
              "color": "#E5ECF6",
              "width": 0.5
             },
             "pattern": {
              "fillmode": "overlay",
              "size": 10,
              "solidity": 0.2
             }
            },
            "type": "barpolar"
           }
          ],
          "carpet": [
           {
            "aaxis": {
             "endlinecolor": "#2a3f5f",
             "gridcolor": "white",
             "linecolor": "white",
             "minorgridcolor": "white",
             "startlinecolor": "#2a3f5f"
            },
            "baxis": {
             "endlinecolor": "#2a3f5f",
             "gridcolor": "white",
             "linecolor": "white",
             "minorgridcolor": "white",
             "startlinecolor": "#2a3f5f"
            },
            "type": "carpet"
           }
          ],
          "choropleth": [
           {
            "colorbar": {
             "outlinewidth": 0,
             "ticks": ""
            },
            "type": "choropleth"
           }
          ],
          "contour": [
           {
            "colorbar": {
             "outlinewidth": 0,
             "ticks": ""
            },
            "colorscale": [
             [
              0,
              "#0d0887"
             ],
             [
              0.1111111111111111,
              "#46039f"
             ],
             [
              0.2222222222222222,
              "#7201a8"
             ],
             [
              0.3333333333333333,
              "#9c179e"
             ],
             [
              0.4444444444444444,
              "#bd3786"
             ],
             [
              0.5555555555555556,
              "#d8576b"
             ],
             [
              0.6666666666666666,
              "#ed7953"
             ],
             [
              0.7777777777777778,
              "#fb9f3a"
             ],
             [
              0.8888888888888888,
              "#fdca26"
             ],
             [
              1,
              "#f0f921"
             ]
            ],
            "type": "contour"
           }
          ],
          "contourcarpet": [
           {
            "colorbar": {
             "outlinewidth": 0,
             "ticks": ""
            },
            "type": "contourcarpet"
           }
          ],
          "heatmap": [
           {
            "colorbar": {
             "outlinewidth": 0,
             "ticks": ""
            },
            "colorscale": [
             [
              0,
              "#0d0887"
             ],
             [
              0.1111111111111111,
              "#46039f"
             ],
             [
              0.2222222222222222,
              "#7201a8"
             ],
             [
              0.3333333333333333,
              "#9c179e"
             ],
             [
              0.4444444444444444,
              "#bd3786"
             ],
             [
              0.5555555555555556,
              "#d8576b"
             ],
             [
              0.6666666666666666,
              "#ed7953"
             ],
             [
              0.7777777777777778,
              "#fb9f3a"
             ],
             [
              0.8888888888888888,
              "#fdca26"
             ],
             [
              1,
              "#f0f921"
             ]
            ],
            "type": "heatmap"
           }
          ],
          "heatmapgl": [
           {
            "colorbar": {
             "outlinewidth": 0,
             "ticks": ""
            },
            "colorscale": [
             [
              0,
              "#0d0887"
             ],
             [
              0.1111111111111111,
              "#46039f"
             ],
             [
              0.2222222222222222,
              "#7201a8"
             ],
             [
              0.3333333333333333,
              "#9c179e"
             ],
             [
              0.4444444444444444,
              "#bd3786"
             ],
             [
              0.5555555555555556,
              "#d8576b"
             ],
             [
              0.6666666666666666,
              "#ed7953"
             ],
             [
              0.7777777777777778,
              "#fb9f3a"
             ],
             [
              0.8888888888888888,
              "#fdca26"
             ],
             [
              1,
              "#f0f921"
             ]
            ],
            "type": "heatmapgl"
           }
          ],
          "histogram": [
           {
            "marker": {
             "pattern": {
              "fillmode": "overlay",
              "size": 10,
              "solidity": 0.2
             }
            },
            "type": "histogram"
           }
          ],
          "histogram2d": [
           {
            "colorbar": {
             "outlinewidth": 0,
             "ticks": ""
            },
            "colorscale": [
             [
              0,
              "#0d0887"
             ],
             [
              0.1111111111111111,
              "#46039f"
             ],
             [
              0.2222222222222222,
              "#7201a8"
             ],
             [
              0.3333333333333333,
              "#9c179e"
             ],
             [
              0.4444444444444444,
              "#bd3786"
             ],
             [
              0.5555555555555556,
              "#d8576b"
             ],
             [
              0.6666666666666666,
              "#ed7953"
             ],
             [
              0.7777777777777778,
              "#fb9f3a"
             ],
             [
              0.8888888888888888,
              "#fdca26"
             ],
             [
              1,
              "#f0f921"
             ]
            ],
            "type": "histogram2d"
           }
          ],
          "histogram2dcontour": [
           {
            "colorbar": {
             "outlinewidth": 0,
             "ticks": ""
            },
            "colorscale": [
             [
              0,
              "#0d0887"
             ],
             [
              0.1111111111111111,
              "#46039f"
             ],
             [
              0.2222222222222222,
              "#7201a8"
             ],
             [
              0.3333333333333333,
              "#9c179e"
             ],
             [
              0.4444444444444444,
              "#bd3786"
             ],
             [
              0.5555555555555556,
              "#d8576b"
             ],
             [
              0.6666666666666666,
              "#ed7953"
             ],
             [
              0.7777777777777778,
              "#fb9f3a"
             ],
             [
              0.8888888888888888,
              "#fdca26"
             ],
             [
              1,
              "#f0f921"
             ]
            ],
            "type": "histogram2dcontour"
           }
          ],
          "mesh3d": [
           {
            "colorbar": {
             "outlinewidth": 0,
             "ticks": ""
            },
            "type": "mesh3d"
           }
          ],
          "parcoords": [
           {
            "line": {
             "colorbar": {
              "outlinewidth": 0,
              "ticks": ""
             }
            },
            "type": "parcoords"
           }
          ],
          "pie": [
           {
            "automargin": true,
            "type": "pie"
           }
          ],
          "scatter": [
           {
            "fillpattern": {
             "fillmode": "overlay",
             "size": 10,
             "solidity": 0.2
            },
            "type": "scatter"
           }
          ],
          "scatter3d": [
           {
            "line": {
             "colorbar": {
              "outlinewidth": 0,
              "ticks": ""
             }
            },
            "marker": {
             "colorbar": {
              "outlinewidth": 0,
              "ticks": ""
             }
            },
            "type": "scatter3d"
           }
          ],
          "scattercarpet": [
           {
            "marker": {
             "colorbar": {
              "outlinewidth": 0,
              "ticks": ""
             }
            },
            "type": "scattercarpet"
           }
          ],
          "scattergeo": [
           {
            "marker": {
             "colorbar": {
              "outlinewidth": 0,
              "ticks": ""
             }
            },
            "type": "scattergeo"
           }
          ],
          "scattergl": [
           {
            "marker": {
             "colorbar": {
              "outlinewidth": 0,
              "ticks": ""
             }
            },
            "type": "scattergl"
           }
          ],
          "scattermapbox": [
           {
            "marker": {
             "colorbar": {
              "outlinewidth": 0,
              "ticks": ""
             }
            },
            "type": "scattermapbox"
           }
          ],
          "scatterpolar": [
           {
            "marker": {
             "colorbar": {
              "outlinewidth": 0,
              "ticks": ""
             }
            },
            "type": "scatterpolar"
           }
          ],
          "scatterpolargl": [
           {
            "marker": {
             "colorbar": {
              "outlinewidth": 0,
              "ticks": ""
             }
            },
            "type": "scatterpolargl"
           }
          ],
          "scatterternary": [
           {
            "marker": {
             "colorbar": {
              "outlinewidth": 0,
              "ticks": ""
             }
            },
            "type": "scatterternary"
           }
          ],
          "surface": [
           {
            "colorbar": {
             "outlinewidth": 0,
             "ticks": ""
            },
            "colorscale": [
             [
              0,
              "#0d0887"
             ],
             [
              0.1111111111111111,
              "#46039f"
             ],
             [
              0.2222222222222222,
              "#7201a8"
             ],
             [
              0.3333333333333333,
              "#9c179e"
             ],
             [
              0.4444444444444444,
              "#bd3786"
             ],
             [
              0.5555555555555556,
              "#d8576b"
             ],
             [
              0.6666666666666666,
              "#ed7953"
             ],
             [
              0.7777777777777778,
              "#fb9f3a"
             ],
             [
              0.8888888888888888,
              "#fdca26"
             ],
             [
              1,
              "#f0f921"
             ]
            ],
            "type": "surface"
           }
          ],
          "table": [
           {
            "cells": {
             "fill": {
              "color": "#EBF0F8"
             },
             "line": {
              "color": "white"
             }
            },
            "header": {
             "fill": {
              "color": "#C8D4E3"
             },
             "line": {
              "color": "white"
             }
            },
            "type": "table"
           }
          ]
         },
         "layout": {
          "annotationdefaults": {
           "arrowcolor": "#2a3f5f",
           "arrowhead": 0,
           "arrowwidth": 1
          },
          "autotypenumbers": "strict",
          "coloraxis": {
           "colorbar": {
            "outlinewidth": 0,
            "ticks": ""
           }
          },
          "colorscale": {
           "diverging": [
            [
             0,
             "#8e0152"
            ],
            [
             0.1,
             "#c51b7d"
            ],
            [
             0.2,
             "#de77ae"
            ],
            [
             0.3,
             "#f1b6da"
            ],
            [
             0.4,
             "#fde0ef"
            ],
            [
             0.5,
             "#f7f7f7"
            ],
            [
             0.6,
             "#e6f5d0"
            ],
            [
             0.7,
             "#b8e186"
            ],
            [
             0.8,
             "#7fbc41"
            ],
            [
             0.9,
             "#4d9221"
            ],
            [
             1,
             "#276419"
            ]
           ],
           "sequential": [
            [
             0,
             "#0d0887"
            ],
            [
             0.1111111111111111,
             "#46039f"
            ],
            [
             0.2222222222222222,
             "#7201a8"
            ],
            [
             0.3333333333333333,
             "#9c179e"
            ],
            [
             0.4444444444444444,
             "#bd3786"
            ],
            [
             0.5555555555555556,
             "#d8576b"
            ],
            [
             0.6666666666666666,
             "#ed7953"
            ],
            [
             0.7777777777777778,
             "#fb9f3a"
            ],
            [
             0.8888888888888888,
             "#fdca26"
            ],
            [
             1,
             "#f0f921"
            ]
           ],
           "sequentialminus": [
            [
             0,
             "#0d0887"
            ],
            [
             0.1111111111111111,
             "#46039f"
            ],
            [
             0.2222222222222222,
             "#7201a8"
            ],
            [
             0.3333333333333333,
             "#9c179e"
            ],
            [
             0.4444444444444444,
             "#bd3786"
            ],
            [
             0.5555555555555556,
             "#d8576b"
            ],
            [
             0.6666666666666666,
             "#ed7953"
            ],
            [
             0.7777777777777778,
             "#fb9f3a"
            ],
            [
             0.8888888888888888,
             "#fdca26"
            ],
            [
             1,
             "#f0f921"
            ]
           ]
          },
          "colorway": [
           "#636efa",
           "#EF553B",
           "#00cc96",
           "#ab63fa",
           "#FFA15A",
           "#19d3f3",
           "#FF6692",
           "#B6E880",
           "#FF97FF",
           "#FECB52"
          ],
          "font": {
           "color": "#2a3f5f"
          },
          "geo": {
           "bgcolor": "white",
           "lakecolor": "white",
           "landcolor": "#E5ECF6",
           "showlakes": true,
           "showland": true,
           "subunitcolor": "white"
          },
          "hoverlabel": {
           "align": "left"
          },
          "hovermode": "closest",
          "mapbox": {
           "style": "light"
          },
          "paper_bgcolor": "white",
          "plot_bgcolor": "#E5ECF6",
          "polar": {
           "angularaxis": {
            "gridcolor": "white",
            "linecolor": "white",
            "ticks": ""
           },
           "bgcolor": "#E5ECF6",
           "radialaxis": {
            "gridcolor": "white",
            "linecolor": "white",
            "ticks": ""
           }
          },
          "scene": {
           "xaxis": {
            "backgroundcolor": "#E5ECF6",
            "gridcolor": "white",
            "gridwidth": 2,
            "linecolor": "white",
            "showbackground": true,
            "ticks": "",
            "zerolinecolor": "white"
           },
           "yaxis": {
            "backgroundcolor": "#E5ECF6",
            "gridcolor": "white",
            "gridwidth": 2,
            "linecolor": "white",
            "showbackground": true,
            "ticks": "",
            "zerolinecolor": "white"
           },
           "zaxis": {
            "backgroundcolor": "#E5ECF6",
            "gridcolor": "white",
            "gridwidth": 2,
            "linecolor": "white",
            "showbackground": true,
            "ticks": "",
            "zerolinecolor": "white"
           }
          },
          "shapedefaults": {
           "line": {
            "color": "#2a3f5f"
           }
          },
          "ternary": {
           "aaxis": {
            "gridcolor": "white",
            "linecolor": "white",
            "ticks": ""
           },
           "baxis": {
            "gridcolor": "white",
            "linecolor": "white",
            "ticks": ""
           },
           "bgcolor": "#E5ECF6",
           "caxis": {
            "gridcolor": "white",
            "linecolor": "white",
            "ticks": ""
           }
          },
          "title": {
           "x": 0.05
          },
          "xaxis": {
           "automargin": true,
           "gridcolor": "white",
           "linecolor": "white",
           "ticks": "",
           "title": {
            "standoff": 15
           },
           "zerolinecolor": "white",
           "zerolinewidth": 2
          },
          "yaxis": {
           "automargin": true,
           "gridcolor": "white",
           "linecolor": "white",
           "ticks": "",
           "title": {
            "standoff": 15
           },
           "zerolinecolor": "white",
           "zerolinewidth": 2
          }
         }
        },
        "title": {
         "text": "Income per month"
        },
        "xaxis": {
         "anchor": "y",
         "domain": [
          0,
          1
         ],
         "title": {
          "text": "Month Name"
         }
        },
        "yaxis": {
         "anchor": "x",
         "domain": [
          0,
          1
         ],
         "title": {
          "text": "Amount (EUR)"
         }
        }
       }
      }
     },
     "metadata": {},
     "output_type": "display_data"
    }
   ],
   "source": [
    "income_monthly_2022 = make_monthly_bar_chart(df, 2022, 'Income')\n",
    "income_monthly_2022"
   ]
  }
 ],
 "metadata": {
  "kernelspec": {
   "display_name": ".venv",
   "language": "python",
   "name": "python3"
  },
  "language_info": {
   "codemirror_mode": {
    "name": "ipython",
    "version": 3
   },
   "file_extension": ".py",
   "mimetype": "text/x-python",
   "name": "python",
   "nbconvert_exporter": "python",
   "pygments_lexer": "ipython3",
   "version": "3.12.6"
  }
 },
 "nbformat": 4,
 "nbformat_minor": 2
}
